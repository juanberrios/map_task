{
 "cells": [
  {
   "cell_type": "markdown",
   "metadata": {},
   "source": [
    "# Written map task: analysis"
   ]
  },
  {
   "cell_type": "markdown",
   "metadata": {},
   "source": [
    "Juan Berrios | juanberrios@pitt.edu | Last updated: February 28, 2023"
   ]
  },
  {
   "cell_type": "markdown",
   "metadata": {},
   "source": [
    "**Summary and overview of the data:**"
   ]
  },
  {
   "cell_type": "markdown",
   "metadata": {},
   "source": [
    "- The purpose of this project is to do an analysis of the results of a map task being piloted for a study on code-switching. This pilot was conducted using only one language, either English or Spanish. In this second notebook I keep processing the data and extracting relevant features using NLP techniques. I finish with a descriptive analysis."
   ]
  },
  {
   "cell_type": "markdown",
   "metadata": {},
   "source": [
    "**Contents:**\n",
    "\n",
    "1. [Preparations](#1.-Preparations): includes the necessary preparations, including importing libraries and loading files.\n",
    "2. [Extracting information](#2.-Extracting-information): extracting the features of interest using NLTK.\n",
    "3. [Descriptive analysis](#3.-Descriptive-analysis): a description of results as tallied by language, session, and participant.\n",
    "4. [Summary](#4.-Summary): a summary of the results with a focus on linguistic features."
   ]
  },
  {
   "cell_type": "markdown",
   "metadata": {},
   "source": [
    "## 1. Preparations"
   ]
  },
  {
   "cell_type": "code",
   "execution_count": 1,
   "metadata": {},
   "outputs": [
    {
     "name": "stdout",
     "output_type": "stream",
     "text": [
      "Pretty printing has been turned OFF\n"
     ]
    }
   ],
   "source": [
    "#Importing libraries\n",
    "import pandas as pd\n",
    "import numpy as np\n",
    "import pickle, nltk\n",
    "import os\n",
    "from matplotlib import pyplot as plt\n",
    "import seaborn as sns\n",
    "\n",
    "#seaborn settings\n",
    "sns.set(font_scale=2)\n",
    "sns.set_style(\"whitegrid\")\n",
    "\n",
    "#Releasing all output:                                            \n",
    "from IPython.core.interactiveshell import InteractiveShell #Prints all commands rather than the last one.\n",
    "InteractiveShell.ast_node_interactivity = \"all\"\n",
    "\n",
    "#Turning pretty print off:\n",
    "%pprint"
   ]
  },
  {
   "cell_type": "code",
   "execution_count": 2,
   "metadata": {},
   "outputs": [
    {
     "data": {
      "text/plain": [
       "(2525, 6)"
      ]
     },
     "execution_count": 2,
     "metadata": {},
     "output_type": "execute_result"
    }
   ],
   "source": [
    "#Loading files\n",
    "\n",
    "df = pd.read_excel('./spreadsheets/df.xlsx')\n",
    "df.shape"
   ]
  },
  {
   "cell_type": "code",
   "execution_count": 3,
   "metadata": {},
   "outputs": [
    {
     "data": {
      "text/plain": [
       "(2223, 6)"
      ]
     },
     "execution_count": 3,
     "metadata": {},
     "output_type": "execute_result"
    }
   ],
   "source": [
    "#Remove incomplete sessions (two and fifteen)\n",
    "\n",
    "df = df.loc[df['session'] != 'two']\n",
    "df = df.loc[df['session'] != 'fifteen']\n",
    "df.reset_index(drop=True, inplace=True) #resetting index\n",
    "df.shape"
   ]
  },
  {
   "cell_type": "code",
   "execution_count": 4,
   "metadata": {},
   "outputs": [],
   "source": [
    "df.to_excel(\"./spreadsheets/df_edited.xlsx\", index=False) #Saving as spreadsheet file\n",
    "df.to_pickle('./pkl/df_edited.pkl')                       #Pickling"
   ]
  },
  {
   "cell_type": "markdown",
   "metadata": {},
   "source": [
    "## 2. Extracting information"
   ]
  },
  {
   "cell_type": "code",
   "execution_count": 49,
   "metadata": {},
   "outputs": [
    {
     "data": {
      "text/plain": [
       "20"
      ]
     },
     "execution_count": 49,
     "metadata": {},
     "output_type": "execute_result"
    }
   ],
   "source": [
    "#Current nuber of sessions\n",
    "\n",
    "len(set(df['session']))"
   ]
  },
  {
   "cell_type": "code",
   "execution_count": 50,
   "metadata": {},
   "outputs": [
    {
     "data": {
      "text/html": [
       "<div>\n",
       "<style scoped>\n",
       "    .dataframe tbody tr th:only-of-type {\n",
       "        vertical-align: middle;\n",
       "    }\n",
       "\n",
       "    .dataframe tbody tr th {\n",
       "        vertical-align: top;\n",
       "    }\n",
       "\n",
       "    .dataframe thead th {\n",
       "        text-align: right;\n",
       "    }\n",
       "</style>\n",
       "<table border=\"1\" class=\"dataframe\">\n",
       "  <thead>\n",
       "    <tr style=\"text-align: right;\">\n",
       "      <th></th>\n",
       "      <th>turn</th>\n",
       "      <th>time</th>\n",
       "      <th>participant</th>\n",
       "      <th>language</th>\n",
       "      <th>session</th>\n",
       "      <th>date</th>\n",
       "    </tr>\n",
       "  </thead>\n",
       "  <tbody>\n",
       "    <tr>\n",
       "      <th>0</th>\n",
       "      <td>Start behind the surfer with the board overhead</td>\n",
       "      <td>9:48:23 pm</td>\n",
       "      <td>A1</td>\n",
       "      <td>English</td>\n",
       "      <td>one</td>\n",
       "      <td>07/06/2021</td>\n",
       "    </tr>\n",
       "    <tr>\n",
       "      <th>1</th>\n",
       "      <td>Curve around the surfer’s feet</td>\n",
       "      <td>9:48:23 pm</td>\n",
       "      <td>A1</td>\n",
       "      <td>English</td>\n",
       "      <td>one</td>\n",
       "      <td>07/06/2021</td>\n",
       "    </tr>\n",
       "    <tr>\n",
       "      <th>2</th>\n",
       "      <td>Then go towards the water at a slight angle, e...</td>\n",
       "      <td>9:48:23 pm</td>\n",
       "      <td>A1</td>\n",
       "      <td>English</td>\n",
       "      <td>one</td>\n",
       "      <td>07/06/2021</td>\n",
       "    </tr>\n",
       "    <tr>\n",
       "      <th>3</th>\n",
       "      <td>Should I stop at the waters edge?</td>\n",
       "      <td>9:50:02 pm</td>\n",
       "      <td>B1</td>\n",
       "      <td>English</td>\n",
       "      <td>one</td>\n",
       "      <td>07/06/2021</td>\n",
       "    </tr>\n",
       "    <tr>\n",
       "      <th>4</th>\n",
       "      <td>Nope</td>\n",
       "      <td>9:50:09 pm</td>\n",
       "      <td>A1</td>\n",
       "      <td>English</td>\n",
       "      <td>one</td>\n",
       "      <td>07/06/2021</td>\n",
       "    </tr>\n",
       "    <tr>\n",
       "      <th>5</th>\n",
       "      <td>Slight curve to the blue water. At the level o...</td>\n",
       "      <td>9:50:09 pm</td>\n",
       "      <td>A1</td>\n",
       "      <td>English</td>\n",
       "      <td>one</td>\n",
       "      <td>07/06/2021</td>\n",
       "    </tr>\n",
       "    <tr>\n",
       "      <th>6</th>\n",
       "      <td>Yinz got it, neat?</td>\n",
       "      <td>9:51:14 pm</td>\n",
       "      <td>A1</td>\n",
       "      <td>English</td>\n",
       "      <td>one</td>\n",
       "      <td>07/06/2021</td>\n",
       "    </tr>\n",
       "    <tr>\n",
       "      <th>7</th>\n",
       "      <td>*n’at</td>\n",
       "      <td>9:51:14 pm</td>\n",
       "      <td>A1</td>\n",
       "      <td>English</td>\n",
       "      <td>one</td>\n",
       "      <td>07/06/2021</td>\n",
       "    </tr>\n",
       "    <tr>\n",
       "      <th>8</th>\n",
       "      <td>Reddy for the next steps n’at?</td>\n",
       "      <td>9:51:14 pm</td>\n",
       "      <td>A1</td>\n",
       "      <td>English</td>\n",
       "      <td>one</td>\n",
       "      <td>07/06/2021</td>\n",
       "    </tr>\n",
       "    <tr>\n",
       "      <th>9</th>\n",
       "      <td>I'm in front of the pink dolphin</td>\n",
       "      <td>9:51:38 pm</td>\n",
       "      <td>B1</td>\n",
       "      <td>English</td>\n",
       "      <td>one</td>\n",
       "      <td>07/06/2021</td>\n",
       "    </tr>\n",
       "  </tbody>\n",
       "</table>\n",
       "</div>"
      ],
      "text/plain": [
       "                                                turn        time participant  \\\n",
       "0    Start behind the surfer with the board overhead  9:48:23 pm          A1   \n",
       "1                     Curve around the surfer’s feet  9:48:23 pm          A1   \n",
       "2  Then go towards the water at a slight angle, e...  9:48:23 pm          A1   \n",
       "3                  Should I stop at the waters edge?  9:50:02 pm          B1   \n",
       "4                                               Nope  9:50:09 pm          A1   \n",
       "5  Slight curve to the blue water. At the level o...  9:50:09 pm          A1   \n",
       "6                                 Yinz got it, neat?  9:51:14 pm          A1   \n",
       "7                                              *n’at  9:51:14 pm          A1   \n",
       "8                     Reddy for the next steps n’at?  9:51:14 pm          A1   \n",
       "9                   I'm in front of the pink dolphin  9:51:38 pm          B1   \n",
       "\n",
       "  language session        date  \n",
       "0  English     one  07/06/2021  \n",
       "1  English     one  07/06/2021  \n",
       "2  English     one  07/06/2021  \n",
       "3  English     one  07/06/2021  \n",
       "4  English     one  07/06/2021  \n",
       "5  English     one  07/06/2021  \n",
       "6  English     one  07/06/2021  \n",
       "7  English     one  07/06/2021  \n",
       "8  English     one  07/06/2021  \n",
       "9  English     one  07/06/2021  "
      ]
     },
     "execution_count": 50,
     "metadata": {},
     "output_type": "execute_result"
    }
   ],
   "source": [
    "#A reminder of what the data look like\n",
    "\n",
    "df.head(10) "
   ]
  },
  {
   "cell_type": "code",
   "execution_count": 51,
   "metadata": {},
   "outputs": [
    {
     "data": {
      "text/plain": [
       "'Start behind the surfer with the board overhead'"
      ]
     },
     "execution_count": 51,
     "metadata": {},
     "output_type": "execute_result"
    }
   ],
   "source": [
    "df['turn'].iloc[0] #What the very first turn looks like. "
   ]
  },
  {
   "cell_type": "markdown",
   "metadata": {},
   "source": [
    "- To start operations on the whole data frame let's first lowercase the turn column (where necessary): "
   ]
  },
  {
   "cell_type": "code",
   "execution_count": 52,
   "metadata": {},
   "outputs": [],
   "source": [
    "df['turn'] = df['turn'].map(lambda x: x.lower())"
   ]
  },
  {
   "cell_type": "code",
   "execution_count": 53,
   "metadata": {
    "scrolled": true
   },
   "outputs": [
    {
     "data": {
      "text/plain": [
       "1006                                let do the second pic\n",
       "1116    start on bottom right side underneath dog to t...\n",
       "866          y te metes por entre el arbusto y el cierto,\n",
       "1023                                got in the blue part?\n",
       "1458          down through the log where the goldfish are\n",
       "1908                                                  sip\n",
       "2213                                                hecho\n",
       "1681    bueno despues de la chef te iras por debajo de...\n",
       "969             go right straight towards the cloths rack\n",
       "1085                                       and that's all\n",
       "Name: turn, dtype: object"
      ]
     },
     "execution_count": 53,
     "metadata": {},
     "output_type": "execute_result"
    }
   ],
   "source": [
    "df['turn'].sample(10) #Sample. Looks good"
   ]
  },
  {
   "cell_type": "markdown",
   "metadata": {},
   "source": [
    "- Now tokenizing: "
   ]
  },
  {
   "cell_type": "code",
   "execution_count": 54,
   "metadata": {},
   "outputs": [],
   "source": [
    "toks = df['turn'].map(nltk.word_tokenize) "
   ]
  },
  {
   "cell_type": "code",
   "execution_count": 55,
   "metadata": {},
   "outputs": [
    {
     "data": {
      "text/plain": [
       "<class 'pandas.core.series.Series'>"
      ]
     },
     "execution_count": 55,
     "metadata": {},
     "output_type": "execute_result"
    },
    {
     "data": {
      "text/plain": [
       "0    [start, behind, the, surfer, with, the, board,...\n",
       "1             [curve, around, the, surfer, ’, s, feet]\n",
       "2    [then, go, towards, the, water, at, a, slight,...\n",
       "3          [should, i, stop, at, the, waters, edge, ?]\n",
       "4                                               [nope]\n",
       "5    [slight, curve, to, the, blue, water, ., at, t...\n",
       "6                          [yinz, got, it, ,, neat, ?]\n",
       "7                                        [*, n, ’, at]\n",
       "8          [reddy, for, the, next, steps, n, ’, at, ?]\n",
       "9           [i, 'm, in, front, of, the, pink, dolphin]\n",
       "Name: turn, dtype: object"
      ]
     },
     "execution_count": 55,
     "metadata": {},
     "output_type": "execute_result"
    }
   ],
   "source": [
    "type(toks)\n",
    "toks[:10] #sample"
   ]
  },
  {
   "cell_type": "code",
   "execution_count": 56,
   "metadata": {},
   "outputs": [],
   "source": [
    "df['tokens'] = toks #Might come back and examine if a by-language tokenizing is necessary, right now it doesn't appear \n",
    "                    #to be so"
   ]
  },
  {
   "cell_type": "code",
   "execution_count": 57,
   "metadata": {},
   "outputs": [
    {
     "data": {
      "text/html": [
       "<div>\n",
       "<style scoped>\n",
       "    .dataframe tbody tr th:only-of-type {\n",
       "        vertical-align: middle;\n",
       "    }\n",
       "\n",
       "    .dataframe tbody tr th {\n",
       "        vertical-align: top;\n",
       "    }\n",
       "\n",
       "    .dataframe thead th {\n",
       "        text-align: right;\n",
       "    }\n",
       "</style>\n",
       "<table border=\"1\" class=\"dataframe\">\n",
       "  <thead>\n",
       "    <tr style=\"text-align: right;\">\n",
       "      <th></th>\n",
       "      <th>turn</th>\n",
       "      <th>tokens</th>\n",
       "    </tr>\n",
       "  </thead>\n",
       "  <tbody>\n",
       "    <tr>\n",
       "      <th>184</th>\n",
       "      <td>ok done</td>\n",
       "      <td>[ok, done]</td>\n",
       "    </tr>\n",
       "    <tr>\n",
       "      <th>2029</th>\n",
       "      <td>lol what</td>\n",
       "      <td>[lol, what]</td>\n",
       "    </tr>\n",
       "    <tr>\n",
       "      <th>436</th>\n",
       "      <td>lmk when you're reconnected with this plane of...</td>\n",
       "      <td>[lmk, when, you, 're, reconnected, with, this,...</td>\n",
       "    </tr>\n",
       "    <tr>\n",
       "      <th>2193</th>\n",
       "      <td>siguiente mapa</td>\n",
       "      <td>[siguiente, mapa]</td>\n",
       "    </tr>\n",
       "    <tr>\n",
       "      <th>1735</th>\n",
       "      <td>cuál es la pregunta</td>\n",
       "      <td>[cuál, es, la, pregunta]</td>\n",
       "    </tr>\n",
       "    <tr>\n",
       "      <th>837</th>\n",
       "      <td>ahora pasa por entre e pozo y la guitarra</td>\n",
       "      <td>[ahora, pasa, por, entre, e, pozo, y, la, guit...</td>\n",
       "    </tr>\n",
       "    <tr>\n",
       "      <th>715</th>\n",
       "      <td>sales de la esquina superior izquierda</td>\n",
       "      <td>[sales, de, la, esquina, superior, izquierda]</td>\n",
       "    </tr>\n",
       "    <tr>\n",
       "      <th>686</th>\n",
       "      <td>hecho.</td>\n",
       "      <td>[hecho, .]</td>\n",
       "    </tr>\n",
       "    <tr>\n",
       "      <th>165</th>\n",
       "      <td>equidistant?</td>\n",
       "      <td>[equidistant, ?]</td>\n",
       "    </tr>\n",
       "    <tr>\n",
       "      <th>866</th>\n",
       "      <td>y te metes por entre el arbusto y el cierto,</td>\n",
       "      <td>[y, te, metes, por, entre, el, arbusto, y, el,...</td>\n",
       "    </tr>\n",
       "  </tbody>\n",
       "</table>\n",
       "</div>"
      ],
      "text/plain": [
       "                                                   turn  \\\n",
       "184                                             ok done   \n",
       "2029                                           lol what   \n",
       "436   lmk when you're reconnected with this plane of...   \n",
       "2193                                     siguiente mapa   \n",
       "1735                                cuál es la pregunta   \n",
       "837           ahora pasa por entre e pozo y la guitarra   \n",
       "715              sales de la esquina superior izquierda   \n",
       "686                                              hecho.   \n",
       "165                                        equidistant?   \n",
       "866        y te metes por entre el arbusto y el cierto,   \n",
       "\n",
       "                                                 tokens  \n",
       "184                                          [ok, done]  \n",
       "2029                                        [lol, what]  \n",
       "436   [lmk, when, you, 're, reconnected, with, this,...  \n",
       "2193                                  [siguiente, mapa]  \n",
       "1735                           [cuál, es, la, pregunta]  \n",
       "837   [ahora, pasa, por, entre, e, pozo, y, la, guit...  \n",
       "715       [sales, de, la, esquina, superior, izquierda]  \n",
       "686                                          [hecho, .]  \n",
       "165                                    [equidistant, ?]  \n",
       "866   [y, te, metes, por, entre, el, arbusto, y, el,...  "
      ]
     },
     "execution_count": 57,
     "metadata": {},
     "output_type": "execute_result"
    }
   ],
   "source": [
    "df[[\"turn\", \"tokens\"]].sample(10) #A sample. Now that I'm just seeing the columns of interest. Looks good."
   ]
  },
  {
   "cell_type": "code",
   "execution_count": 58,
   "metadata": {},
   "outputs": [],
   "source": [
    "df['token_count'] = df['tokens'].map(len) #Number of tokens per turn"
   ]
  },
  {
   "cell_type": "code",
   "execution_count": 59,
   "metadata": {},
   "outputs": [
    {
     "data": {
      "text/html": [
       "<div>\n",
       "<style scoped>\n",
       "    .dataframe tbody tr th:only-of-type {\n",
       "        vertical-align: middle;\n",
       "    }\n",
       "\n",
       "    .dataframe tbody tr th {\n",
       "        vertical-align: top;\n",
       "    }\n",
       "\n",
       "    .dataframe thead th {\n",
       "        text-align: right;\n",
       "    }\n",
       "</style>\n",
       "<table border=\"1\" class=\"dataframe\">\n",
       "  <thead>\n",
       "    <tr style=\"text-align: right;\">\n",
       "      <th></th>\n",
       "      <th>turn</th>\n",
       "      <th>tokens</th>\n",
       "      <th>token_count</th>\n",
       "    </tr>\n",
       "  </thead>\n",
       "  <tbody>\n",
       "    <tr>\n",
       "      <th>458</th>\n",
       "      <td>okay ready for the scarier park</td>\n",
       "      <td>[okay, ready, for, the, scarier, park]</td>\n",
       "      <td>6</td>\n",
       "    </tr>\n",
       "    <tr>\n",
       "      <th>1483</th>\n",
       "      <td>sigue hacia la doctora y la bordea por la part...</td>\n",
       "      <td>[sigue, hacia, la, doctora, y, la, bordea, por...</td>\n",
       "      <td>11</td>\n",
       "    </tr>\n",
       "    <tr>\n",
       "      <th>28</th>\n",
       "      <td>in between ball and sandcastle</td>\n",
       "      <td>[in, between, ball, and, sandcastle]</td>\n",
       "      <td>5</td>\n",
       "    </tr>\n",
       "    <tr>\n",
       "      <th>2083</th>\n",
       "      <td>k</td>\n",
       "      <td>[k]</td>\n",
       "      <td>1</td>\n",
       "    </tr>\n",
       "    <tr>\n",
       "      <th>1278</th>\n",
       "      <td>done</td>\n",
       "      <td>[done]</td>\n",
       "      <td>1</td>\n",
       "    </tr>\n",
       "    <tr>\n",
       "      <th>100</th>\n",
       "      <td>go north in straight line and stop at the brid...</td>\n",
       "      <td>[go, north, in, straight, line, and, stop, at,...</td>\n",
       "      <td>11</td>\n",
       "    </tr>\n",
       "    <tr>\n",
       "      <th>1094</th>\n",
       "      <td>ok</td>\n",
       "      <td>[ok]</td>\n",
       "      <td>1</td>\n",
       "    </tr>\n",
       "    <tr>\n",
       "      <th>2081</th>\n",
       "      <td>k</td>\n",
       "      <td>[k]</td>\n",
       "      <td>1</td>\n",
       "    </tr>\n",
       "    <tr>\n",
       "      <th>1832</th>\n",
       "      <td>rodea la tienda de campa;a</td>\n",
       "      <td>[rodea, la, tienda, de, campa, ;, a]</td>\n",
       "      <td>7</td>\n",
       "    </tr>\n",
       "    <tr>\n",
       "      <th>909</th>\n",
       "      <td>got lost?</td>\n",
       "      <td>[got, lost, ?]</td>\n",
       "      <td>3</td>\n",
       "    </tr>\n",
       "  </tbody>\n",
       "</table>\n",
       "</div>"
      ],
      "text/plain": [
       "                                                   turn  \\\n",
       "458                     okay ready for the scarier park   \n",
       "1483  sigue hacia la doctora y la bordea por la part...   \n",
       "28                       in between ball and sandcastle   \n",
       "2083                                                  k   \n",
       "1278                                               done   \n",
       "100   go north in straight line and stop at the brid...   \n",
       "1094                                                 ok   \n",
       "2081                                                  k   \n",
       "1832                         rodea la tienda de campa;a   \n",
       "909                                           got lost?   \n",
       "\n",
       "                                                 tokens  token_count  \n",
       "458              [okay, ready, for, the, scarier, park]            6  \n",
       "1483  [sigue, hacia, la, doctora, y, la, bordea, por...           11  \n",
       "28                 [in, between, ball, and, sandcastle]            5  \n",
       "2083                                                [k]            1  \n",
       "1278                                             [done]            1  \n",
       "100   [go, north, in, straight, line, and, stop, at,...           11  \n",
       "1094                                               [ok]            1  \n",
       "2081                                                [k]            1  \n",
       "1832               [rodea, la, tienda, de, campa, ;, a]            7  \n",
       "909                                      [got, lost, ?]            3  "
      ]
     },
     "execution_count": 59,
     "metadata": {},
     "output_type": "execute_result"
    }
   ],
   "source": [
    "df[[\"turn\", \"tokens\", \"token_count\"]].sample(10) #A sample. "
   ]
  },
  {
   "cell_type": "code",
   "execution_count": 60,
   "metadata": {},
   "outputs": [],
   "source": [
    "df['type_count'] = df['tokens'].apply(lambda x: len(set(x))) #Number of types per turn"
   ]
  },
  {
   "cell_type": "code",
   "execution_count": 61,
   "metadata": {
    "scrolled": true
   },
   "outputs": [
    {
     "data": {
      "text/html": [
       "<div>\n",
       "<style scoped>\n",
       "    .dataframe tbody tr th:only-of-type {\n",
       "        vertical-align: middle;\n",
       "    }\n",
       "\n",
       "    .dataframe tbody tr th {\n",
       "        vertical-align: top;\n",
       "    }\n",
       "\n",
       "    .dataframe thead th {\n",
       "        text-align: right;\n",
       "    }\n",
       "</style>\n",
       "<table border=\"1\" class=\"dataframe\">\n",
       "  <thead>\n",
       "    <tr style=\"text-align: right;\">\n",
       "      <th></th>\n",
       "      <th>turn</th>\n",
       "      <th>tokens</th>\n",
       "      <th>type_count</th>\n",
       "    </tr>\n",
       "  </thead>\n",
       "  <tbody>\n",
       "    <tr>\n",
       "      <th>1638</th>\n",
       "      <td>te ubiucas?</td>\n",
       "      <td>[te, ubiucas, ?]</td>\n",
       "      <td>3</td>\n",
       "    </tr>\n",
       "    <tr>\n",
       "      <th>120</th>\n",
       "      <td>go north east to just above the flame</td>\n",
       "      <td>[go, north, east, to, just, above, the, flame]</td>\n",
       "      <td>8</td>\n",
       "    </tr>\n",
       "    <tr>\n",
       "      <th>1533</th>\n",
       "      <td>no entre la casa y el hospital</td>\n",
       "      <td>[no, entre, la, casa, y, el, hospital]</td>\n",
       "      <td>7</td>\n",
       "    </tr>\n",
       "    <tr>\n",
       "      <th>454</th>\n",
       "      <td>that's it</td>\n",
       "      <td>[that, 's, it]</td>\n",
       "      <td>3</td>\n",
       "    </tr>\n",
       "    <tr>\n",
       "      <th>1851</th>\n",
       "      <td>ya</td>\n",
       "      <td>[ya]</td>\n",
       "      <td>1</td>\n",
       "    </tr>\n",
       "    <tr>\n",
       "      <th>1309</th>\n",
       "      <td>you will pass underneath the canoe</td>\n",
       "      <td>[you, will, pass, underneath, the, canoe]</td>\n",
       "      <td>6</td>\n",
       "    </tr>\n",
       "    <tr>\n",
       "      <th>699</th>\n",
       "      <td>y vas a cruzar a la siguiente isla en diagonal...</td>\n",
       "      <td>[y, vas, a, cruzar, a, la, siguiente, isla, en...</td>\n",
       "      <td>17</td>\n",
       "    </tr>\n",
       "    <tr>\n",
       "      <th>1198</th>\n",
       "      <td>ooo thanks for the tip</td>\n",
       "      <td>[ooo, thanks, for, the, tip]</td>\n",
       "      <td>5</td>\n",
       "    </tr>\n",
       "    <tr>\n",
       "      <th>1377</th>\n",
       "      <td>and slightly above the firepit</td>\n",
       "      <td>[and, slightly, above, the, firepit]</td>\n",
       "      <td>5</td>\n",
       "    </tr>\n",
       "    <tr>\n",
       "      <th>314</th>\n",
       "      <td>and smaller cacti to its se</td>\n",
       "      <td>[and, smaller, cacti, to, its, se]</td>\n",
       "      <td>6</td>\n",
       "    </tr>\n",
       "  </tbody>\n",
       "</table>\n",
       "</div>"
      ],
      "text/plain": [
       "                                                   turn  \\\n",
       "1638                                        te ubiucas?   \n",
       "120               go north east to just above the flame   \n",
       "1533                     no entre la casa y el hospital   \n",
       "454                                           that's it   \n",
       "1851                                                 ya   \n",
       "1309                 you will pass underneath the canoe   \n",
       "699   y vas a cruzar a la siguiente isla en diagonal...   \n",
       "1198                             ooo thanks for the tip   \n",
       "1377                     and slightly above the firepit   \n",
       "314                         and smaller cacti to its se   \n",
       "\n",
       "                                                 tokens  type_count  \n",
       "1638                                   [te, ubiucas, ?]           3  \n",
       "120      [go, north, east, to, just, above, the, flame]           8  \n",
       "1533             [no, entre, la, casa, y, el, hospital]           7  \n",
       "454                                      [that, 's, it]           3  \n",
       "1851                                               [ya]           1  \n",
       "1309          [you, will, pass, underneath, the, canoe]           6  \n",
       "699   [y, vas, a, cruzar, a, la, siguiente, isla, en...          17  \n",
       "1198                       [ooo, thanks, for, the, tip]           5  \n",
       "1377               [and, slightly, above, the, firepit]           5  \n",
       "314                  [and, smaller, cacti, to, its, se]           6  "
      ]
     },
     "execution_count": 61,
     "metadata": {},
     "output_type": "execute_result"
    }
   ],
   "source": [
    "df[[\"turn\", \"tokens\", \"type_count\"]].sample(10) #A sample. "
   ]
  },
  {
   "cell_type": "markdown",
   "metadata": {},
   "source": [
    "- Lastly frequency distributions for each row:"
   ]
  },
  {
   "cell_type": "code",
   "execution_count": 62,
   "metadata": {},
   "outputs": [],
   "source": [
    "df['freq_dist'] = df.tokens.map(nltk.FreqDist) "
   ]
  },
  {
   "cell_type": "code",
   "execution_count": 63,
   "metadata": {},
   "outputs": [
    {
     "data": {
      "text/html": [
       "<div>\n",
       "<style scoped>\n",
       "    .dataframe tbody tr th:only-of-type {\n",
       "        vertical-align: middle;\n",
       "    }\n",
       "\n",
       "    .dataframe tbody tr th {\n",
       "        vertical-align: top;\n",
       "    }\n",
       "\n",
       "    .dataframe thead th {\n",
       "        text-align: right;\n",
       "    }\n",
       "</style>\n",
       "<table border=\"1\" class=\"dataframe\">\n",
       "  <thead>\n",
       "    <tr style=\"text-align: right;\">\n",
       "      <th></th>\n",
       "      <th>turn</th>\n",
       "      <th>tokens</th>\n",
       "      <th>freq_dist</th>\n",
       "    </tr>\n",
       "  </thead>\n",
       "  <tbody>\n",
       "    <tr>\n",
       "      <th>640</th>\n",
       "      <td>siguiendo con nuestra imagen mental de la serp...</td>\n",
       "      <td>[siguiendo, con, nuestra, imagen, mental, de, ...</td>\n",
       "      <td>{'siguiendo': 1, 'con': 1, 'nuestra': 1, 'imag...</td>\n",
       "    </tr>\n",
       "    <tr>\n",
       "      <th>625</th>\n",
       "      <td>de allí subes para pasar por el estrecho que c...</td>\n",
       "      <td>[de, allí, subes, para, pasar, por, el, estrec...</td>\n",
       "      <td>{'de': 2, 'allí': 1, 'subes': 1, 'para': 1, 'p...</td>\n",
       "    </tr>\n",
       "    <tr>\n",
       "      <th>2096</th>\n",
       "      <td>k</td>\n",
       "      <td>[k]</td>\n",
       "      <td>{'k': 1}</td>\n",
       "    </tr>\n",
       "    <tr>\n",
       "      <th>977</th>\n",
       "      <td>then go up north the picture and stop at the e...</td>\n",
       "      <td>[then, go, up, north, the, picture, and, stop,...</td>\n",
       "      <td>{'then': 1, 'go': 1, 'up': 1, 'north': 1, 'the...</td>\n",
       "    </tr>\n",
       "    <tr>\n",
       "      <th>1963</th>\n",
       "      <td>once you go between the tent and speaker, ligh...</td>\n",
       "      <td>[once, you, go, between, the, tent, and, speak...</td>\n",
       "      <td>{'once': 1, 'you': 1, 'go': 1, 'between': 1, '...</td>\n",
       "    </tr>\n",
       "    <tr>\n",
       "      <th>178</th>\n",
       "      <td>near something?</td>\n",
       "      <td>[near, something, ?]</td>\n",
       "      <td>{'near': 1, 'something': 1, '?': 1}</td>\n",
       "    </tr>\n",
       "    <tr>\n",
       "      <th>1150</th>\n",
       "      <td>sweet okay and then do like a \"c\" motion going...</td>\n",
       "      <td>[sweet, okay, and, then, do, like, a, ``, c, '...</td>\n",
       "      <td>{'sweet': 1, 'okay': 1, 'and': 2, 'then': 2, '...</td>\n",
       "    </tr>\n",
       "    <tr>\n",
       "      <th>1860</th>\n",
       "      <td>ok, ahora pasa entre el fuego y el frontal de ...</td>\n",
       "      <td>[ok, ,, ahora, pasa, entre, el, fuego, y, el, ...</td>\n",
       "      <td>{'ok': 1, ',': 1, 'ahora': 1, 'pasa': 1, 'entr...</td>\n",
       "    </tr>\n",
       "    <tr>\n",
       "      <th>1087</th>\n",
       "      <td>start at the upper left of the map, above and ...</td>\n",
       "      <td>[start, at, the, upper, left, of, the, map, ,,...</td>\n",
       "      <td>{'start': 1, 'at': 1, 'the': 4, 'upper': 1, 'l...</td>\n",
       "    </tr>\n",
       "    <tr>\n",
       "      <th>1111</th>\n",
       "      <td>ok</td>\n",
       "      <td>[ok]</td>\n",
       "      <td>{'ok': 1}</td>\n",
       "    </tr>\n",
       "  </tbody>\n",
       "</table>\n",
       "</div>"
      ],
      "text/plain": [
       "                                                   turn  \\\n",
       "640   siguiendo con nuestra imagen mental de la serp...   \n",
       "625   de allí subes para pasar por el estrecho que c...   \n",
       "2096                                                  k   \n",
       "977   then go up north the picture and stop at the e...   \n",
       "1963  once you go between the tent and speaker, ligh...   \n",
       "178                                     near something?   \n",
       "1150  sweet okay and then do like a \"c\" motion going...   \n",
       "1860  ok, ahora pasa entre el fuego y el frontal de ...   \n",
       "1087  start at the upper left of the map, above and ...   \n",
       "1111                                                 ok   \n",
       "\n",
       "                                                 tokens  \\\n",
       "640   [siguiendo, con, nuestra, imagen, mental, de, ...   \n",
       "625   [de, allí, subes, para, pasar, por, el, estrec...   \n",
       "2096                                                [k]   \n",
       "977   [then, go, up, north, the, picture, and, stop,...   \n",
       "1963  [once, you, go, between, the, tent, and, speak...   \n",
       "178                                [near, something, ?]   \n",
       "1150  [sweet, okay, and, then, do, like, a, ``, c, '...   \n",
       "1860  [ok, ,, ahora, pasa, entre, el, fuego, y, el, ...   \n",
       "1087  [start, at, the, upper, left, of, the, map, ,,...   \n",
       "1111                                               [ok]   \n",
       "\n",
       "                                              freq_dist  \n",
       "640   {'siguiendo': 1, 'con': 1, 'nuestra': 1, 'imag...  \n",
       "625   {'de': 2, 'allí': 1, 'subes': 1, 'para': 1, 'p...  \n",
       "2096                                           {'k': 1}  \n",
       "977   {'then': 1, 'go': 1, 'up': 1, 'north': 1, 'the...  \n",
       "1963  {'once': 1, 'you': 1, 'go': 1, 'between': 1, '...  \n",
       "178                 {'near': 1, 'something': 1, '?': 1}  \n",
       "1150  {'sweet': 1, 'okay': 1, 'and': 2, 'then': 2, '...  \n",
       "1860  {'ok': 1, ',': 1, 'ahora': 1, 'pasa': 1, 'entr...  \n",
       "1087  {'start': 1, 'at': 1, 'the': 4, 'upper': 1, 'l...  \n",
       "1111                                          {'ok': 1}  "
      ]
     },
     "execution_count": 63,
     "metadata": {},
     "output_type": "execute_result"
    }
   ],
   "source": [
    "df[[\"turn\", \"tokens\", \"freq_dist\"]].sample(10) #A sample. "
   ]
  },
  {
   "cell_type": "markdown",
   "metadata": {},
   "source": [
    "- Saving results:"
   ]
  },
  {
   "cell_type": "code",
   "execution_count": 64,
   "metadata": {},
   "outputs": [],
   "source": [
    "df.to_excel(\"./spreadsheets/df_analysis.xlsx\", index=False) #Saving as spreadsheet file\n",
    "df.to_pickle('./pkl/df_analysis.pkl')                       #Pickling"
   ]
  },
  {
   "cell_type": "markdown",
   "metadata": {},
   "source": [
    "## 3. Descriptive analysis"
   ]
  },
  {
   "cell_type": "markdown",
   "metadata": {},
   "source": [
    "- Let's start with overall counts:"
   ]
  },
  {
   "cell_type": "code",
   "execution_count": 65,
   "metadata": {},
   "outputs": [
    {
     "data": {
      "text/html": [
       "<div>\n",
       "<style scoped>\n",
       "    .dataframe tbody tr th:only-of-type {\n",
       "        vertical-align: middle;\n",
       "    }\n",
       "\n",
       "    .dataframe tbody tr th {\n",
       "        vertical-align: top;\n",
       "    }\n",
       "\n",
       "    .dataframe thead th {\n",
       "        text-align: right;\n",
       "    }\n",
       "</style>\n",
       "<table border=\"1\" class=\"dataframe\">\n",
       "  <thead>\n",
       "    <tr style=\"text-align: right;\">\n",
       "      <th></th>\n",
       "      <th>token_count</th>\n",
       "      <th>type_count</th>\n",
       "    </tr>\n",
       "  </thead>\n",
       "  <tbody>\n",
       "    <tr>\n",
       "      <th>count</th>\n",
       "      <td>2223.000000</td>\n",
       "      <td>2223.000000</td>\n",
       "    </tr>\n",
       "    <tr>\n",
       "      <th>mean</th>\n",
       "      <td>8.730994</td>\n",
       "      <td>7.618983</td>\n",
       "    </tr>\n",
       "    <tr>\n",
       "      <th>std</th>\n",
       "      <td>8.798145</td>\n",
       "      <td>6.766196</td>\n",
       "    </tr>\n",
       "    <tr>\n",
       "      <th>min</th>\n",
       "      <td>1.000000</td>\n",
       "      <td>1.000000</td>\n",
       "    </tr>\n",
       "    <tr>\n",
       "      <th>25%</th>\n",
       "      <td>2.000000</td>\n",
       "      <td>2.000000</td>\n",
       "    </tr>\n",
       "    <tr>\n",
       "      <th>50%</th>\n",
       "      <td>6.000000</td>\n",
       "      <td>6.000000</td>\n",
       "    </tr>\n",
       "    <tr>\n",
       "      <th>75%</th>\n",
       "      <td>12.000000</td>\n",
       "      <td>11.000000</td>\n",
       "    </tr>\n",
       "    <tr>\n",
       "      <th>max</th>\n",
       "      <td>103.000000</td>\n",
       "      <td>57.000000</td>\n",
       "    </tr>\n",
       "  </tbody>\n",
       "</table>\n",
       "</div>"
      ],
      "text/plain": [
       "       token_count   type_count\n",
       "count  2223.000000  2223.000000\n",
       "mean      8.730994     7.618983\n",
       "std       8.798145     6.766196\n",
       "min       1.000000     1.000000\n",
       "25%       2.000000     2.000000\n",
       "50%       6.000000     6.000000\n",
       "75%      12.000000    11.000000\n",
       "max     103.000000    57.000000"
      ]
     },
     "execution_count": 65,
     "metadata": {},
     "output_type": "execute_result"
    }
   ],
   "source": [
    "df.describe() #Continuous variables"
   ]
  },
  {
   "cell_type": "markdown",
   "metadata": {},
   "source": [
    "- Zooming in on figures of interest:"
   ]
  },
  {
   "cell_type": "code",
   "execution_count": 66,
   "metadata": {},
   "outputs": [
    {
     "name": "stdout",
     "output_type": "stream",
     "text": [
      "Total turns:\n",
      " 2223\n",
      "Total tokens:\n",
      " 19409\n",
      "Total types:\n",
      " 16937 \n",
      "\n",
      "Mean tokens per turn:\n",
      " 8.730994152046783\n",
      "Standard deviation:\n",
      " 8.796165649916274 \n",
      "\n",
      "Mean types per turn:\n",
      " 7.618983355825461\n",
      "Standard deviation:\n",
      " 6.7646736227881075\n"
     ]
    }
   ],
   "source": [
    "#Total \n",
    "\n",
    "print('Total turns:\\n', len(df))\n",
    "print('Total tokens:\\n', np.sum(df['token_count']))\n",
    "print('Total types:\\n', np.sum(df['type_count']), '\\n')\n",
    "\n",
    "\n",
    "#Means and SDs\n",
    "\n",
    "print('Mean tokens per turn:\\n', np.mean(df['token_count']))\n",
    "print('Standard deviation:\\n', np.std(df['token_count']), '\\n')\n",
    "print('Mean types per turn:\\n', np.mean(df['type_count']))\n",
    "print('Standard deviation:\\n', np.std(df['type_count']))"
   ]
  },
  {
   "cell_type": "markdown",
   "metadata": {},
   "source": [
    "- By participant:"
   ]
  },
  {
   "cell_type": "code",
   "execution_count": 67,
   "metadata": {},
   "outputs": [
    {
     "name": "stdout",
     "output_type": "stream",
     "text": [
      "Turns by participant:\n",
      "Total:\n"
     ]
    },
    {
     "data": {
      "text/plain": [
       "E1    111\n",
       "S1    105\n",
       "A1    102\n",
       "B2    100\n",
       "G2    100\n",
       "N2     95\n",
       "M2     95\n",
       "T1     79\n",
       "H2     77\n",
       "N1     74\n",
       "K2     72\n",
       "M1     71\n",
       "B1     70\n",
       "P1     65\n",
       "J2     65\n",
       "X1     62\n",
       "F1     62\n",
       "A2     61\n",
       "I2     58\n",
       "W1     56\n",
       "L2     52\n",
       "Q1     49\n",
       "K1     45\n",
       "O1     41\n",
       "R1     39\n",
       "L1     37\n",
       "I1     35\n",
       "H1     34\n",
       "O2     33\n",
       "V1     33\n",
       "Y1     30\n",
       "G1     30\n",
       "U1     27\n",
       "R2     26\n",
       "Z1     26\n",
       "F2     24\n",
       "E2     24\n",
       "J1     22\n",
       "P2     18\n",
       "Q2     18\n",
       "Name: participant, dtype: int64"
      ]
     },
     "execution_count": 67,
     "metadata": {},
     "output_type": "execute_result"
    },
    {
     "name": "stdout",
     "output_type": "stream",
     "text": [
      "Relative:\n"
     ]
    },
    {
     "data": {
      "text/plain": [
       "E1    0.049933\n",
       "S1    0.047233\n",
       "A1    0.045884\n",
       "B2    0.044984\n",
       "G2    0.044984\n",
       "N2    0.042735\n",
       "M2    0.042735\n",
       "T1    0.035538\n",
       "H2    0.034638\n",
       "N1    0.033288\n",
       "K2    0.032389\n",
       "M1    0.031939\n",
       "B1    0.031489\n",
       "P1    0.029240\n",
       "J2    0.029240\n",
       "X1    0.027890\n",
       "F1    0.027890\n",
       "A2    0.027440\n",
       "I2    0.026091\n",
       "W1    0.025191\n",
       "L2    0.023392\n",
       "Q1    0.022042\n",
       "K1    0.020243\n",
       "O1    0.018444\n",
       "R1    0.017544\n",
       "L1    0.016644\n",
       "I1    0.015744\n",
       "H1    0.015295\n",
       "O2    0.014845\n",
       "V1    0.014845\n",
       "Y1    0.013495\n",
       "G1    0.013495\n",
       "U1    0.012146\n",
       "R2    0.011696\n",
       "Z1    0.011696\n",
       "F2    0.010796\n",
       "E2    0.010796\n",
       "J1    0.009897\n",
       "P2    0.008097\n",
       "Q2    0.008097\n",
       "Name: participant, dtype: float64"
      ]
     },
     "execution_count": 67,
     "metadata": {},
     "output_type": "execute_result"
    },
    {
     "name": "stdout",
     "output_type": "stream",
     "text": [
      "Mean turns by participant:\n"
     ]
    },
    {
     "data": {
      "text/plain": [
       "55.575"
      ]
     },
     "execution_count": 67,
     "metadata": {},
     "output_type": "execute_result"
    },
    {
     "data": {
      "text/plain": [
       "<matplotlib.axes._subplots.AxesSubplot object at 0x000001756FD8ECA0>"
      ]
     },
     "execution_count": 67,
     "metadata": {},
     "output_type": "execute_result"
    },
    {
     "data": {
      "image/png": "[encoded data removed]",
      "text/plain": [
       "<Figure size 432x432 with 1 Axes>"
      ]
     },
     "metadata": {},
     "output_type": "display_data"
    }
   ],
   "source": [
    "print('Turns by participant:')\n",
    "print('Total:')\n",
    "df['participant'].value_counts()\n",
    "print('Relative:')\n",
    "df['participant'].value_counts(normalize=True)\n",
    "print('Mean turns by participant:')\n",
    "np.mean(df['participant'].value_counts())\n",
    "df['participant'].value_counts().plot(kind='bar', figsize=(6,6), color=['deepskyblue'], edgecolor=\"black\", fontsize=14, \n",
    "                                      title ='Turns by participant')"
   ]
  },
  {
   "cell_type": "code",
   "execution_count": 68,
   "metadata": {},
   "outputs": [
    {
     "name": "stdout",
     "output_type": "stream",
     "text": [
      "Mean tokens and types each turn by participant:\n"
     ]
    },
    {
     "data": {
      "text/html": [
       "<div>\n",
       "<style scoped>\n",
       "    .dataframe tbody tr th:only-of-type {\n",
       "        vertical-align: middle;\n",
       "    }\n",
       "\n",
       "    .dataframe tbody tr th {\n",
       "        vertical-align: top;\n",
       "    }\n",
       "\n",
       "    .dataframe thead th {\n",
       "        text-align: right;\n",
       "    }\n",
       "</style>\n",
       "<table border=\"1\" class=\"dataframe\">\n",
       "  <thead>\n",
       "    <tr style=\"text-align: right;\">\n",
       "      <th></th>\n",
       "      <th>token_count</th>\n",
       "      <th>type_count</th>\n",
       "    </tr>\n",
       "    <tr>\n",
       "      <th>participant</th>\n",
       "      <th></th>\n",
       "      <th></th>\n",
       "    </tr>\n",
       "  </thead>\n",
       "  <tbody>\n",
       "    <tr>\n",
       "      <th>A1</th>\n",
       "      <td>8.205882</td>\n",
       "      <td>7.627451</td>\n",
       "    </tr>\n",
       "    <tr>\n",
       "      <th>A2</th>\n",
       "      <td>6.360656</td>\n",
       "      <td>5.754098</td>\n",
       "    </tr>\n",
       "    <tr>\n",
       "      <th>B1</th>\n",
       "      <td>5.342857</td>\n",
       "      <td>5.157143</td>\n",
       "    </tr>\n",
       "    <tr>\n",
       "      <th>B2</th>\n",
       "      <td>7.870000</td>\n",
       "      <td>7.250000</td>\n",
       "    </tr>\n",
       "    <tr>\n",
       "      <th>E1</th>\n",
       "      <td>8.747748</td>\n",
       "      <td>7.900901</td>\n",
       "    </tr>\n",
       "    <tr>\n",
       "      <th>E2</th>\n",
       "      <td>10.416667</td>\n",
       "      <td>9.083333</td>\n",
       "    </tr>\n",
       "    <tr>\n",
       "      <th>F1</th>\n",
       "      <td>9.774194</td>\n",
       "      <td>8.193548</td>\n",
       "    </tr>\n",
       "    <tr>\n",
       "      <th>F2</th>\n",
       "      <td>8.958333</td>\n",
       "      <td>8.166667</td>\n",
       "    </tr>\n",
       "    <tr>\n",
       "      <th>G1</th>\n",
       "      <td>8.200000</td>\n",
       "      <td>7.000000</td>\n",
       "    </tr>\n",
       "    <tr>\n",
       "      <th>G2</th>\n",
       "      <td>6.200000</td>\n",
       "      <td>5.800000</td>\n",
       "    </tr>\n",
       "    <tr>\n",
       "      <th>H1</th>\n",
       "      <td>5.235294</td>\n",
       "      <td>4.735294</td>\n",
       "    </tr>\n",
       "    <tr>\n",
       "      <th>H2</th>\n",
       "      <td>8.870130</td>\n",
       "      <td>7.584416</td>\n",
       "    </tr>\n",
       "    <tr>\n",
       "      <th>I1</th>\n",
       "      <td>14.257143</td>\n",
       "      <td>11.285714</td>\n",
       "    </tr>\n",
       "    <tr>\n",
       "      <th>I2</th>\n",
       "      <td>5.793103</td>\n",
       "      <td>5.482759</td>\n",
       "    </tr>\n",
       "    <tr>\n",
       "      <th>J1</th>\n",
       "      <td>16.227273</td>\n",
       "      <td>12.818182</td>\n",
       "    </tr>\n",
       "    <tr>\n",
       "      <th>J2</th>\n",
       "      <td>6.461538</td>\n",
       "      <td>5.753846</td>\n",
       "    </tr>\n",
       "    <tr>\n",
       "      <th>K1</th>\n",
       "      <td>8.733333</td>\n",
       "      <td>7.688889</td>\n",
       "    </tr>\n",
       "    <tr>\n",
       "      <th>K2</th>\n",
       "      <td>9.277778</td>\n",
       "      <td>8.333333</td>\n",
       "    </tr>\n",
       "    <tr>\n",
       "      <th>L1</th>\n",
       "      <td>10.945946</td>\n",
       "      <td>9.378378</td>\n",
       "    </tr>\n",
       "    <tr>\n",
       "      <th>L2</th>\n",
       "      <td>9.673077</td>\n",
       "      <td>8.250000</td>\n",
       "    </tr>\n",
       "    <tr>\n",
       "      <th>M1</th>\n",
       "      <td>8.183099</td>\n",
       "      <td>7.408451</td>\n",
       "    </tr>\n",
       "    <tr>\n",
       "      <th>M2</th>\n",
       "      <td>5.600000</td>\n",
       "      <td>5.010526</td>\n",
       "    </tr>\n",
       "    <tr>\n",
       "      <th>N1</th>\n",
       "      <td>9.162162</td>\n",
       "      <td>8.094595</td>\n",
       "    </tr>\n",
       "    <tr>\n",
       "      <th>N2</th>\n",
       "      <td>9.652632</td>\n",
       "      <td>7.926316</td>\n",
       "    </tr>\n",
       "    <tr>\n",
       "      <th>O1</th>\n",
       "      <td>10.804878</td>\n",
       "      <td>9.780488</td>\n",
       "    </tr>\n",
       "    <tr>\n",
       "      <th>O2</th>\n",
       "      <td>13.757576</td>\n",
       "      <td>11.454545</td>\n",
       "    </tr>\n",
       "    <tr>\n",
       "      <th>P1</th>\n",
       "      <td>7.907692</td>\n",
       "      <td>7.138462</td>\n",
       "    </tr>\n",
       "    <tr>\n",
       "      <th>P2</th>\n",
       "      <td>8.277778</td>\n",
       "      <td>7.222222</td>\n",
       "    </tr>\n",
       "    <tr>\n",
       "      <th>Q1</th>\n",
       "      <td>7.673469</td>\n",
       "      <td>7.204082</td>\n",
       "    </tr>\n",
       "    <tr>\n",
       "      <th>Q2</th>\n",
       "      <td>10.055556</td>\n",
       "      <td>8.666667</td>\n",
       "    </tr>\n",
       "    <tr>\n",
       "      <th>R1</th>\n",
       "      <td>10.923077</td>\n",
       "      <td>9.333333</td>\n",
       "    </tr>\n",
       "    <tr>\n",
       "      <th>R2</th>\n",
       "      <td>12.000000</td>\n",
       "      <td>9.923077</td>\n",
       "    </tr>\n",
       "    <tr>\n",
       "      <th>S1</th>\n",
       "      <td>8.847619</td>\n",
       "      <td>7.552381</td>\n",
       "    </tr>\n",
       "    <tr>\n",
       "      <th>T1</th>\n",
       "      <td>6.658228</td>\n",
       "      <td>6.012658</td>\n",
       "    </tr>\n",
       "    <tr>\n",
       "      <th>U1</th>\n",
       "      <td>9.407407</td>\n",
       "      <td>7.814815</td>\n",
       "    </tr>\n",
       "    <tr>\n",
       "      <th>V1</th>\n",
       "      <td>12.393939</td>\n",
       "      <td>9.424242</td>\n",
       "    </tr>\n",
       "    <tr>\n",
       "      <th>W1</th>\n",
       "      <td>9.517857</td>\n",
       "      <td>8.375000</td>\n",
       "    </tr>\n",
       "    <tr>\n",
       "      <th>X1</th>\n",
       "      <td>12.435484</td>\n",
       "      <td>10.596774</td>\n",
       "    </tr>\n",
       "    <tr>\n",
       "      <th>Y1</th>\n",
       "      <td>12.366667</td>\n",
       "      <td>9.933333</td>\n",
       "    </tr>\n",
       "    <tr>\n",
       "      <th>Z1</th>\n",
       "      <td>12.192308</td>\n",
       "      <td>8.653846</td>\n",
       "    </tr>\n",
       "  </tbody>\n",
       "</table>\n",
       "</div>"
      ],
      "text/plain": [
       "             token_count  type_count\n",
       "participant                         \n",
       "A1              8.205882    7.627451\n",
       "A2              6.360656    5.754098\n",
       "B1              5.342857    5.157143\n",
       "B2              7.870000    7.250000\n",
       "E1              8.747748    7.900901\n",
       "E2             10.416667    9.083333\n",
       "F1              9.774194    8.193548\n",
       "F2              8.958333    8.166667\n",
       "G1              8.200000    7.000000\n",
       "G2              6.200000    5.800000\n",
       "H1              5.235294    4.735294\n",
       "H2              8.870130    7.584416\n",
       "I1             14.257143   11.285714\n",
       "I2              5.793103    5.482759\n",
       "J1             16.227273   12.818182\n",
       "J2              6.461538    5.753846\n",
       "K1              8.733333    7.688889\n",
       "K2              9.277778    8.333333\n",
       "L1             10.945946    9.378378\n",
       "L2              9.673077    8.250000\n",
       "M1              8.183099    7.408451\n",
       "M2              5.600000    5.010526\n",
       "N1              9.162162    8.094595\n",
       "N2              9.652632    7.926316\n",
       "O1             10.804878    9.780488\n",
       "O2             13.757576   11.454545\n",
       "P1              7.907692    7.138462\n",
       "P2              8.277778    7.222222\n",
       "Q1              7.673469    7.204082\n",
       "Q2             10.055556    8.666667\n",
       "R1             10.923077    9.333333\n",
       "R2             12.000000    9.923077\n",
       "S1              8.847619    7.552381\n",
       "T1              6.658228    6.012658\n",
       "U1              9.407407    7.814815\n",
       "V1             12.393939    9.424242\n",
       "W1              9.517857    8.375000\n",
       "X1             12.435484   10.596774\n",
       "Y1             12.366667    9.933333\n",
       "Z1             12.192308    8.653846"
      ]
     },
     "execution_count": 68,
     "metadata": {},
     "output_type": "execute_result"
    }
   ],
   "source": [
    "print('Mean tokens and types each turn by participant:')\n",
    "df.groupby(['participant']).mean()"
   ]
  },
  {
   "cell_type": "markdown",
   "metadata": {},
   "source": [
    "- By language:"
   ]
  },
  {
   "cell_type": "code",
   "execution_count": 69,
   "metadata": {},
   "outputs": [
    {
     "name": "stdout",
     "output_type": "stream",
     "text": [
      "Turns by language:\n",
      "Total:\n"
     ]
    },
    {
     "data": {
      "text/plain": [
       "English    1317\n",
       "Spanish     906\n",
       "Name: language, dtype: int64"
      ]
     },
     "execution_count": 69,
     "metadata": {},
     "output_type": "execute_result"
    },
    {
     "name": "stdout",
     "output_type": "stream",
     "text": [
      "Relative:\n"
     ]
    },
    {
     "data": {
      "text/plain": [
       "English    0.592443\n",
       "Spanish    0.407557\n",
       "Name: language, dtype: float64"
      ]
     },
     "execution_count": 69,
     "metadata": {},
     "output_type": "execute_result"
    }
   ],
   "source": [
    "print('Turns by language:')            #Note that there are more ENG sessions, and that the first ENG \n",
    "print('Total:')                        #session included all 8 maps\n",
    "df['language'].value_counts()          \n",
    "print('Relative:')\n",
    "df['language'].value_counts(normalize=True)"
   ]
  },
  {
   "cell_type": "code",
   "execution_count": 70,
   "metadata": {},
   "outputs": [
    {
     "name": "stdout",
     "output_type": "stream",
     "text": [
      "Mean tokens and types by language:\n"
     ]
    },
    {
     "data": {
      "text/html": [
       "<div>\n",
       "<style scoped>\n",
       "    .dataframe tbody tr th:only-of-type {\n",
       "        vertical-align: middle;\n",
       "    }\n",
       "\n",
       "    .dataframe tbody tr th {\n",
       "        vertical-align: top;\n",
       "    }\n",
       "\n",
       "    .dataframe thead th {\n",
       "        text-align: right;\n",
       "    }\n",
       "</style>\n",
       "<table border=\"1\" class=\"dataframe\">\n",
       "  <thead>\n",
       "    <tr style=\"text-align: right;\">\n",
       "      <th></th>\n",
       "      <th>token_count</th>\n",
       "      <th>type_count</th>\n",
       "    </tr>\n",
       "    <tr>\n",
       "      <th>language</th>\n",
       "      <th></th>\n",
       "      <th></th>\n",
       "    </tr>\n",
       "  </thead>\n",
       "  <tbody>\n",
       "    <tr>\n",
       "      <th>English</th>\n",
       "      <td>8.807897</td>\n",
       "      <td>7.599848</td>\n",
       "    </tr>\n",
       "    <tr>\n",
       "      <th>Spanish</th>\n",
       "      <td>8.619205</td>\n",
       "      <td>7.646799</td>\n",
       "    </tr>\n",
       "  </tbody>\n",
       "</table>\n",
       "</div>"
      ],
      "text/plain": [
       "          token_count  type_count\n",
       "language                         \n",
       "English      8.807897    7.599848\n",
       "Spanish      8.619205    7.646799"
      ]
     },
     "execution_count": 70,
     "metadata": {},
     "output_type": "execute_result"
    },
    {
     "data": {
      "text/plain": [
       "<matplotlib.axes._subplots.AxesSubplot object at 0x000001756FCE4460>"
      ]
     },
     "execution_count": 70,
     "metadata": {},
     "output_type": "execute_result"
    },
    {
     "data": {
      "image/png": "[encoded data removed]",
      "text/plain": [
       "<Figure size 432x432 with 1 Axes>"
      ]
     },
     "metadata": {},
     "output_type": "display_data"
    }
   ],
   "source": [
    "print('Mean tokens and types by language:')\n",
    "df.groupby(['language']).mean()\n",
    "df['language'].value_counts().plot(kind='bar', figsize=(6,6), color=['deepskyblue'], edgecolor=\"black\", fontsize=14, \n",
    "                                      title ='Turns by language')"
   ]
  },
  {
   "cell_type": "code",
   "execution_count": 71,
   "metadata": {},
   "outputs": [
    {
     "data": {
      "text/plain": [
       "Text(15.795000000000002, 0.5, 'Tokens per turn')"
      ]
     },
     "execution_count": 71,
     "metadata": {},
     "output_type": "execute_result"
    },
    {
     "data": {
      "text/plain": [
       "Text(0.5, 21.92, 'Language')"
      ]
     },
     "execution_count": 71,
     "metadata": {},
     "output_type": "execute_result"
    },
    {
     "data": {
      "image/png": "[encoded data removed]",
      "text/plain": [
       "<Figure size 432x432 with 1 Axes>"
      ]
     },
     "metadata": {},
     "output_type": "display_data"
    }
   ],
   "source": [
    "p = sns.catplot(x=\"language\", y=\"token_count\", kind=\"violin\",data=df, height=6, aspect=1)\n",
    "plt.ylabel('Tokens per turn')\n",
    "plt.xlabel('Language')"
   ]
  },
  {
   "cell_type": "markdown",
   "metadata": {},
   "source": [
    "- By session:"
   ]
  },
  {
   "cell_type": "code",
   "execution_count": 72,
   "metadata": {},
   "outputs": [
    {
     "name": "stdout",
     "output_type": "stream",
     "text": [
      "Turns by session:\n",
      "Total:\n"
     ]
    },
    {
     "data": {
      "text/plain": [
       "twenty        190\n",
       "ten           184\n",
       "seventeen     177\n",
       "three         173\n",
       "one           172\n",
       "fourteen      161\n",
       "seven         145\n",
       "nineteen      124\n",
       "eighteen      123\n",
       "twelve        118\n",
       "eight         106\n",
       "nine           88\n",
       "six            82\n",
       "four           64\n",
       "eleven         60\n",
       "five           57\n",
       "thirteen       56\n",
       "twenty-one     51\n",
       "sixteen        48\n",
       "twenty-two     44\n",
       "Name: session, dtype: int64"
      ]
     },
     "execution_count": 72,
     "metadata": {},
     "output_type": "execute_result"
    },
    {
     "data": {
      "text/plain": [
       "<matplotlib.axes._subplots.AxesSubplot object at 0x000001756FB5C850>"
      ]
     },
     "execution_count": 72,
     "metadata": {},
     "output_type": "execute_result"
    },
    {
     "name": "stdout",
     "output_type": "stream",
     "text": [
      "Relative:\n"
     ]
    },
    {
     "data": {
      "text/plain": [
       "twenty        0.085470\n",
       "ten           0.082771\n",
       "seventeen     0.079622\n",
       "three         0.077823\n",
       "one           0.077373\n",
       "fourteen      0.072425\n",
       "seven         0.065227\n",
       "nineteen      0.055780\n",
       "eighteen      0.055331\n",
       "twelve        0.053081\n",
       "eight         0.047683\n",
       "nine          0.039586\n",
       "six           0.036887\n",
       "four          0.028790\n",
       "eleven        0.026991\n",
       "five          0.025641\n",
       "thirteen      0.025191\n",
       "twenty-one    0.022942\n",
       "sixteen       0.021592\n",
       "twenty-two    0.019793\n",
       "Name: session, dtype: float64"
      ]
     },
     "execution_count": 72,
     "metadata": {},
     "output_type": "execute_result"
    },
    {
     "data": {
      "image/png": "[encoded data removed]",
      "text/plain": [
       "<Figure size 432x432 with 1 Axes>"
      ]
     },
     "metadata": {},
     "output_type": "display_data"
    }
   ],
   "source": [
    "print('Turns by session:')\n",
    "print('Total:')\n",
    "df['session'].value_counts()\n",
    "df['session'].value_counts().plot(kind='bar', figsize=(6,6), color=['deepskyblue'], edgecolor=\"black\", fontsize=14, \n",
    "                                      title ='Turns by participant')\n",
    "print('Relative:')\n",
    "df['session'].value_counts(normalize=True)"
   ]
  },
  {
   "cell_type": "code",
   "execution_count": 73,
   "metadata": {},
   "outputs": [
    {
     "name": "stdout",
     "output_type": "stream",
     "text": [
      "Mean tokens and types by session:\n"
     ]
    },
    {
     "data": {
      "text/html": [
       "<div>\n",
       "<style scoped>\n",
       "    .dataframe tbody tr th:only-of-type {\n",
       "        vertical-align: middle;\n",
       "    }\n",
       "\n",
       "    .dataframe tbody tr th {\n",
       "        vertical-align: top;\n",
       "    }\n",
       "\n",
       "    .dataframe thead th {\n",
       "        text-align: right;\n",
       "    }\n",
       "</style>\n",
       "<table border=\"1\" class=\"dataframe\">\n",
       "  <thead>\n",
       "    <tr style=\"text-align: right;\">\n",
       "      <th></th>\n",
       "      <th>token_count</th>\n",
       "      <th>type_count</th>\n",
       "    </tr>\n",
       "    <tr>\n",
       "      <th>session</th>\n",
       "      <th></th>\n",
       "      <th></th>\n",
       "    </tr>\n",
       "  </thead>\n",
       "  <tbody>\n",
       "    <tr>\n",
       "      <th>eight</th>\n",
       "      <td>9.028302</td>\n",
       "      <td>8.160377</td>\n",
       "    </tr>\n",
       "    <tr>\n",
       "      <th>eighteen</th>\n",
       "      <td>6.146341</td>\n",
       "      <td>5.626016</td>\n",
       "    </tr>\n",
       "    <tr>\n",
       "      <th>eleven</th>\n",
       "      <td>11.050000</td>\n",
       "      <td>8.700000</td>\n",
       "    </tr>\n",
       "    <tr>\n",
       "      <th>five</th>\n",
       "      <td>15.017544</td>\n",
       "      <td>11.877193</td>\n",
       "    </tr>\n",
       "    <tr>\n",
       "      <th>four</th>\n",
       "      <td>6.625000</td>\n",
       "      <td>5.796875</td>\n",
       "    </tr>\n",
       "    <tr>\n",
       "      <th>fourteen</th>\n",
       "      <td>7.298137</td>\n",
       "      <td>6.683230</td>\n",
       "    </tr>\n",
       "    <tr>\n",
       "      <th>nine</th>\n",
       "      <td>9.113636</td>\n",
       "      <td>8.147727</td>\n",
       "    </tr>\n",
       "    <tr>\n",
       "      <th>nineteen</th>\n",
       "      <td>9.443548</td>\n",
       "      <td>8.298387</td>\n",
       "    </tr>\n",
       "    <tr>\n",
       "      <th>one</th>\n",
       "      <td>7.040698</td>\n",
       "      <td>6.622093</td>\n",
       "    </tr>\n",
       "    <tr>\n",
       "      <th>seven</th>\n",
       "      <td>8.682759</td>\n",
       "      <td>7.758621</td>\n",
       "    </tr>\n",
       "    <tr>\n",
       "      <th>seventeen</th>\n",
       "      <td>7.361582</td>\n",
       "      <td>6.576271</td>\n",
       "    </tr>\n",
       "    <tr>\n",
       "      <th>six</th>\n",
       "      <td>9.731707</td>\n",
       "      <td>8.451220</td>\n",
       "    </tr>\n",
       "    <tr>\n",
       "      <th>sixteen</th>\n",
       "      <td>9.687500</td>\n",
       "      <td>8.625000</td>\n",
       "    </tr>\n",
       "    <tr>\n",
       "      <th>ten</th>\n",
       "      <td>7.907609</td>\n",
       "      <td>6.891304</td>\n",
       "    </tr>\n",
       "    <tr>\n",
       "      <th>thirteen</th>\n",
       "      <td>12.285714</td>\n",
       "      <td>9.339286</td>\n",
       "    </tr>\n",
       "    <tr>\n",
       "      <th>three</th>\n",
       "      <td>9.115607</td>\n",
       "      <td>8.005780</td>\n",
       "    </tr>\n",
       "    <tr>\n",
       "      <th>twelve</th>\n",
       "      <td>11.050847</td>\n",
       "      <td>9.542373</td>\n",
       "    </tr>\n",
       "    <tr>\n",
       "      <th>twenty</th>\n",
       "      <td>7.626316</td>\n",
       "      <td>6.468421</td>\n",
       "    </tr>\n",
       "    <tr>\n",
       "      <th>twenty-one</th>\n",
       "      <td>11.823529</td>\n",
       "      <td>9.960784</td>\n",
       "    </tr>\n",
       "    <tr>\n",
       "      <th>twenty-two</th>\n",
       "      <td>11.204545</td>\n",
       "      <td>9.409091</td>\n",
       "    </tr>\n",
       "  </tbody>\n",
       "</table>\n",
       "</div>"
      ],
      "text/plain": [
       "            token_count  type_count\n",
       "session                            \n",
       "eight          9.028302    8.160377\n",
       "eighteen       6.146341    5.626016\n",
       "eleven        11.050000    8.700000\n",
       "five          15.017544   11.877193\n",
       "four           6.625000    5.796875\n",
       "fourteen       7.298137    6.683230\n",
       "nine           9.113636    8.147727\n",
       "nineteen       9.443548    8.298387\n",
       "one            7.040698    6.622093\n",
       "seven          8.682759    7.758621\n",
       "seventeen      7.361582    6.576271\n",
       "six            9.731707    8.451220\n",
       "sixteen        9.687500    8.625000\n",
       "ten            7.907609    6.891304\n",
       "thirteen      12.285714    9.339286\n",
       "three          9.115607    8.005780\n",
       "twelve        11.050847    9.542373\n",
       "twenty         7.626316    6.468421\n",
       "twenty-one    11.823529    9.960784\n",
       "twenty-two    11.204545    9.409091"
      ]
     },
     "execution_count": 73,
     "metadata": {},
     "output_type": "execute_result"
    }
   ],
   "source": [
    "print('Mean tokens and types by session:')\n",
    "df.groupby(['session']).mean()"
   ]
  },
  {
   "cell_type": "markdown",
   "metadata": {},
   "source": [
    "- I'll finish with frequency distributions (for the full dataset). To get total numbers for the whole data frame we need to unnest (flatten) the `tokens` series. For this purpose we can use Panda's own \"explode\" function. This must also be done by language:"
   ]
  },
  {
   "cell_type": "code",
   "execution_count": 74,
   "metadata": {},
   "outputs": [
    {
     "data": {
      "text/plain": [
       "(1317, 10)"
      ]
     },
     "execution_count": 74,
     "metadata": {},
     "output_type": "execute_result"
    },
    {
     "data": {
      "text/plain": [
       "(906, 10)"
      ]
     },
     "execution_count": 74,
     "metadata": {},
     "output_type": "execute_result"
    }
   ],
   "source": [
    "#Creating subsets for language\n",
    "\n",
    "eng = df[df.language == \"English\"]\n",
    "spa = df[df.language == \"Spanish\"]\n",
    "\n",
    "eng.shape\n",
    "spa.shape"
   ]
  },
  {
   "cell_type": "code",
   "execution_count": 75,
   "metadata": {},
   "outputs": [],
   "source": [
    "#Unnesting the tokens column\n",
    "\n",
    "unnested_eng = eng['tokens'].explode()\n",
    "unnested_spa = spa['tokens'].explode()"
   ]
  },
  {
   "cell_type": "code",
   "execution_count": 76,
   "metadata": {},
   "outputs": [],
   "source": [
    "#Creating frequency distributions\n",
    "\n",
    "eng_fd = nltk.FreqDist(unnested_eng)\n",
    "spa_fd = nltk.FreqDist(unnested_spa)"
   ]
  },
  {
   "cell_type": "code",
   "execution_count": 77,
   "metadata": {},
   "outputs": [
    {
     "name": "stdout",
     "output_type": "stream",
     "text": [
      "Top 25 words - English\n"
     ]
    },
    {
     "data": {
      "text/plain": [
       "[('the', 1452), ('and', 368), ('of', 333), ('to', 273), (',', 234), ('go', 186), ('you', 172), ('right', 170), ('left', 149), ('on', 147), ('then', 139), ('in', 134), ('a', 128), ('i', 128), ('?', 122), ('at', 115), ('between', 100), ('it', 100), ('ok', 90), ('line', 84), ('down', 82), ('top', 80), (\"'s\", 79), ('above', 76), ('up', 75)]"
      ]
     },
     "execution_count": 77,
     "metadata": {},
     "output_type": "execute_result"
    },
    {
     "name": "stdout",
     "output_type": "stream",
     "text": [
      "Top 25 words - Spanish\n"
     ]
    },
    {
     "data": {
      "text/plain": [
       "[('la', 492), ('de', 328), ('el', 315), ('y', 290), ('por', 249), (',', 221), ('a', 200), ('del', 172), ('?', 135), ('al', 115), ('que', 112), ('en', 101), ('hasta', 100), ('ok', 96), ('entre', 83), ('las', 79), ('vas', 67), ('encima', 63), ('sin', 63), ('los', 58), ('.', 57), ('un', 53), ('lado', 48), ('luego', 46), ('hacia', 45)]"
      ]
     },
     "execution_count": 77,
     "metadata": {},
     "output_type": "execute_result"
    }
   ],
   "source": [
    "print('Top 25 words - English')\n",
    "eng_fd.most_common(25)\n",
    "print('Top 25 words - Spanish')\n",
    "spa_fd.most_common(25)"
   ]
  },
  {
   "cell_type": "markdown",
   "metadata": {},
   "source": [
    "- Without stop words and punctuation:"
   ]
  },
  {
   "cell_type": "code",
   "execution_count": 78,
   "metadata": {},
   "outputs": [],
   "source": [
    "#Using nltk's lists for both languages\n",
    "\n",
    "from nltk.corpus import stopwords \n",
    "eng_stop = stopwords.words('english')\n",
    "spa_stop = stopwords.words('spanish')"
   ]
  },
  {
   "cell_type": "code",
   "execution_count": 79,
   "metadata": {},
   "outputs": [],
   "source": [
    "#English\n",
    "\n",
    "eng_nosym = [x for x in unnested_eng if x.isalnum()] # removing punctuation\n",
    "eng_nostop =  [x for x in eng_nosym if x not in eng_stop] #stop words\n",
    "\n",
    "#Spanish\n",
    "\n",
    "spa_nosym = [x for x in unnested_spa if x.isalnum()] # removing punctuation\n",
    "spa_nostop =  [x for x in spa_nosym if x not in spa_stop] #stop words"
   ]
  },
  {
   "cell_type": "code",
   "execution_count": 80,
   "metadata": {},
   "outputs": [],
   "source": [
    "#Creating new frequency distributions\n",
    "\n",
    "eng_nostop_fd = nltk.FreqDist(eng_nostop)\n",
    "spa_nostop_fd = nltk.FreqDist(spa_nostop)"
   ]
  },
  {
   "cell_type": "code",
   "execution_count": 81,
   "metadata": {},
   "outputs": [
    {
     "name": "stdout",
     "output_type": "stream",
     "text": [
      "Top 25 non-stop words - English\n"
     ]
    },
    {
     "data": {
      "text/plain": [
       "[('go', 186), ('right', 170), ('left', 149), ('ok', 90), ('line', 84), ('top', 80), ('side', 71), ('around', 68), ('start', 64), ('head', 56), ('going', 55), ('okay', 55), ('curve', 54), ('bridge', 53), ('rock', 47), ('corner', 47), ('map', 46), ('stop', 45), ('towards', 44), ('cactus', 44), ('got', 42), ('done', 42), ('path', 41), ('bottom', 40), ('k', 39), ('draw', 38), ('end', 36), ('make', 35), ('straight', 34), ('like', 34), ('turn', 34), ('across', 33), ('tent', 33), ('south', 30), ('edge', 29), ('north', 29), ('diagonal', 28), ('toward', 28), ('tree', 27), ('cross', 27), ('water', 26), ('rocks', 26), ('dog', 25), ('pass', 25), ('continue', 25), ('one', 24), ('car', 24), ('parrot', 24), ('island', 24), ('ready', 23)]"
      ]
     },
     "execution_count": 81,
     "metadata": {},
     "output_type": "execute_result"
    },
    {
     "data": {
      "image/png": "[encoded data removed]",
      "text/plain": [
       "<Figure size 432x288 with 1 Axes>"
      ]
     },
     "metadata": {},
     "output_type": "display_data"
    },
    {
     "data": {
      "text/plain": [
       "<matplotlib.axes._subplots.AxesSubplot object at 0x000001756FD05940>"
      ]
     },
     "execution_count": 81,
     "metadata": {},
     "output_type": "execute_result"
    },
    {
     "name": "stdout",
     "output_type": "stream",
     "text": [
      "Top 25 non-stop words - Spanish\n"
     ]
    },
    {
     "data": {
      "text/plain": [
       "[('ok', 96), ('vas', 67), ('encima', 63), ('lado', 48), ('luego', 46), ('hacia', 45), ('listo', 42), ('debajo', 41), ('abajo', 38), ('tronco', 38), ('pasar', 36), ('izquierda', 36), ('ahora', 36), ('derecha', 35), ('perro', 34), ('parte', 34), ('tocar', 32), ('línea', 30), ('cactus', 29), ('pasas', 28), ('ahí', 26), ('puente', 26), ('justo', 25), ('camino', 25), ('bajas', 24), ('arriba', 23), ('izquierdo', 21), ('llegar', 21), ('subes', 21), ('pasando', 21), ('sigue', 21), ('pasa', 21), ('mapa', 20), ('dos', 20), ('grande', 19), ('casa', 19), ('x', 19), ('medio', 18), ('linea', 18), ('rodeas', 17), ('superior', 17), ('sigues', 17), ('rio', 17), ('tienda', 15), ('pozo', 15), ('si', 15), ('roca', 14), ('guitarra', 14), ('fuego', 14), ('carro', 14)]"
      ]
     },
     "execution_count": 81,
     "metadata": {},
     "output_type": "execute_result"
    },
    {
     "data": {
      "image/png": "[encoded data removed]",
      "text/plain": [
       "<Figure size 432x288 with 1 Axes>"
      ]
     },
     "metadata": {},
     "output_type": "display_data"
    },
    {
     "data": {
      "text/plain": [
       "<matplotlib.axes._subplots.AxesSubplot object at 0x0000017571DBC220>"
      ]
     },
     "execution_count": 81,
     "metadata": {},
     "output_type": "execute_result"
    }
   ],
   "source": [
    "print('Top 25 non-stop words - English')\n",
    "eng_nostop_fd.most_common(50)\n",
    "eng_nostop_fd.plot(10)\n",
    "print('Top 25 non-stop words - Spanish')\n",
    "spa_nostop_fd.most_common(50)\n",
    "spa_nostop_fd.plot(10)"
   ]
  },
  {
   "cell_type": "code",
   "execution_count": 82,
   "metadata": {},
   "outputs": [
    {
     "data": {
      "text/plain": [
       "True"
      ]
     },
     "execution_count": 82,
     "metadata": {},
     "output_type": "execute_result"
    },
    {
     "data": {
      "text/plain": [
       "True"
      ]
     },
     "execution_count": 82,
     "metadata": {},
     "output_type": "execute_result"
    },
    {
     "data": {
      "text/plain": [
       "True"
      ]
     },
     "execution_count": 82,
     "metadata": {},
     "output_type": "execute_result"
    },
    {
     "data": {
      "text/plain": [
       "True"
      ]
     },
     "execution_count": 82,
     "metadata": {},
     "output_type": "execute_result"
    },
    {
     "data": {
      "text/plain": [
       "True"
      ]
     },
     "execution_count": 82,
     "metadata": {},
     "output_type": "execute_result"
    },
    {
     "data": {
      "text/plain": [
       "False"
      ]
     },
     "execution_count": 82,
     "metadata": {},
     "output_type": "execute_result"
    },
    {
     "data": {
      "text/plain": [
       "False"
      ]
     },
     "execution_count": 82,
     "metadata": {},
     "output_type": "execute_result"
    },
    {
     "data": {
      "text/plain": [
       "False"
      ]
     },
     "execution_count": 82,
     "metadata": {},
     "output_type": "execute_result"
    }
   ],
   "source": [
    "#Cardinal points in English\n",
    "\n",
    "\"north\" in eng_nostop\n",
    "\"south\" in eng_nostop\n",
    "\"east\" in eng_nostop\n",
    "\"west\" in eng_nostop\n",
    "\n",
    "#Cardinal points in Spanish\n",
    "\n",
    "\"norte\" in spa_nostop\n",
    "\"sur\" in spa_nostop\n",
    "\"este\" in spa_nostop\n",
    "\"oeste\" in spa_nostop"
   ]
  },
  {
   "cell_type": "markdown",
   "metadata": {},
   "source": [
    "## 4. Summary"
   ]
  },
  {
   "cell_type": "markdown",
   "metadata": {},
   "source": [
    "- **In general**:\n",
    "    - There are 1,446 turns and 12089 tokens in total. There are 10713 types. Note that the latter figure might be inflated by typos/alternate spelling which can be removed in later processing. The difference between types and token is small as turns are normally short. When considering both languages, the mean lenght of a turn is 8.36 tokens, with a relatively high standard deviation of 7.91, although this could be skewed by abundance of short turns indicating confirmation (e.g., \"ok\"). \n",
    "- **Participant**:\n",
    "    - Some participants were noticeably more chatty than others, other this could be affected by the maps they used, as well as their interpersonal relationship. The mean number of turns per participant was 69.94.\n",
    "- **Language**:\n",
    "    - The data are currently composed primarily of English session tokens so it's more appropriate to look at means. Overall it appears that Spanish turns were longer, with a mean token count og 8.90. English turns had a mean token count of 8.19. \n",
    "- **Lexis**:\n",
    "    - After stripping the frequency distributions of stop words, it appears that the most commonly used words are those used to give directions. Examples from English are \"go\", \"right\", \"left\", and \"around\". Examples from Spanish are \"vas\", \"hacia\", and \"encima\". There are also references to elements from the maps among the most commonly used words, such as \"bridge\", \"map\", and \"tree\". It's also worth noting that the most common words in both languages are equivalent."
   ]
  }
 ],
 "metadata": {
  "kernelspec": {
   "display_name": "Python 3",
   "language": "python",
   "name": "python3"
  },
  "language_info": {
   "codemirror_mode": {
    "name": "ipython",
    "version": 3
   },
   "file_extension": ".py",
   "mimetype": "text/x-python",
   "name": "python",
   "nbconvert_exporter": "python",
   "pygments_lexer": "ipython3",
   "version": "3.8.3"
  }
 },
 "nbformat": 4,
 "nbformat_minor": 4
}
