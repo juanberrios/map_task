{
 "cells": [
  {
   "cell_type": "markdown",
   "metadata": {},
   "source": [
    "# Written map task: analysis"
   ]
  },
  {
   "cell_type": "markdown",
   "metadata": {},
   "source": [
    "Juan Berrios | juanberrios@pitt.edu | Last updated: October 27, 2022"
   ]
  },
  {
   "cell_type": "markdown",
   "metadata": {},
   "source": [
    "**Summary and overview of the data:**"
   ]
  },
  {
   "cell_type": "markdown",
   "metadata": {},
   "source": [
    "- The purpose of this project is to do an analysis of the results of a map task being piloted for a study on code-switching. This pilot was conducted using only one language, either English or Spanish. In this second notebook I keep processing the data and extracting relevant features using NLP techniques. I finish with a descriptive analysis."
   ]
  },
  {
   "cell_type": "markdown",
   "metadata": {},
   "source": [
    "**Contents:**\n",
    "\n",
    "1. [Preparations](#1.-Preparations): includes the necessary preparations, including importing libraries and loading files.\n",
    "2. [Extracting information](#2.-Extracting-information): extracting the features of interest using NLTK.\n",
    "3. [Descriptive analysis](#3.-Descriptive-analysis): a description of results as tallied by language, session, and participant.\n",
    "4. [Summary](#4.-Summary): a summary of the results with a focus on linguistic features."
   ]
  },
  {
   "cell_type": "markdown",
   "metadata": {},
   "source": [
    "## 1. Preparations"
   ]
  },
  {
   "cell_type": "code",
   "execution_count": 1,
   "metadata": {},
   "outputs": [
    {
     "name": "stdout",
     "output_type": "stream",
     "text": [
      "Pretty printing has been turned OFF\n"
     ]
    }
   ],
   "source": [
    "#Importing libraries\n",
    "import pandas as pd\n",
    "import numpy as np\n",
    "import pickle, nltk\n",
    "from matplotlib import pyplot as plt\n",
    "import seaborn as sns\n",
    "\n",
    "#seaborn settings\n",
    "sns.set(font_scale=2)\n",
    "sns.set_style(\"whitegrid\")\n",
    "\n",
    "#Releasing all output:                                            \n",
    "from IPython.core.interactiveshell import InteractiveShell #Prints all commands rather than the last one.\n",
    "InteractiveShell.ast_node_interactivity = \"all\"\n",
    "\n",
    "#Turning pretty print off:\n",
    "%pprint"
   ]
  },
  {
   "cell_type": "code",
   "execution_count": 2,
   "metadata": {},
   "outputs": [
    {
     "data": {
      "text/plain": [
       "(2107, 6)"
      ]
     },
     "execution_count": 2,
     "metadata": {},
     "output_type": "execute_result"
    }
   ],
   "source": [
    "#Loading files\n",
    "\n",
    "df = pd.read_excel('./spreadsheets/df.xlsx')\n",
    "df.shape"
   ]
  },
  {
   "cell_type": "markdown",
   "metadata": {},
   "source": [
    "## 2. Extracting information"
   ]
  },
  {
   "cell_type": "code",
   "execution_count": 3,
   "metadata": {},
   "outputs": [
    {
     "data": {
      "text/html": [
       "<div>\n",
       "<style scoped>\n",
       "    .dataframe tbody tr th:only-of-type {\n",
       "        vertical-align: middle;\n",
       "    }\n",
       "\n",
       "    .dataframe tbody tr th {\n",
       "        vertical-align: top;\n",
       "    }\n",
       "\n",
       "    .dataframe thead th {\n",
       "        text-align: right;\n",
       "    }\n",
       "</style>\n",
       "<table border=\"1\" class=\"dataframe\">\n",
       "  <thead>\n",
       "    <tr style=\"text-align: right;\">\n",
       "      <th></th>\n",
       "      <th>turn</th>\n",
       "      <th>time</th>\n",
       "      <th>participant</th>\n",
       "      <th>language</th>\n",
       "      <th>session</th>\n",
       "      <th>date</th>\n",
       "    </tr>\n",
       "  </thead>\n",
       "  <tbody>\n",
       "    <tr>\n",
       "      <th>0</th>\n",
       "      <td>Start behind the surfer with the board overhead</td>\n",
       "      <td>9:48:23 pm</td>\n",
       "      <td>A1</td>\n",
       "      <td>English</td>\n",
       "      <td>one</td>\n",
       "      <td>07/06/2021</td>\n",
       "    </tr>\n",
       "    <tr>\n",
       "      <th>1</th>\n",
       "      <td>Curve around the surfer’s feet</td>\n",
       "      <td>9:48:23 pm</td>\n",
       "      <td>A1</td>\n",
       "      <td>English</td>\n",
       "      <td>one</td>\n",
       "      <td>07/06/2021</td>\n",
       "    </tr>\n",
       "    <tr>\n",
       "      <th>2</th>\n",
       "      <td>Then go towards the water at a slight angle, e...</td>\n",
       "      <td>9:48:23 pm</td>\n",
       "      <td>A1</td>\n",
       "      <td>English</td>\n",
       "      <td>one</td>\n",
       "      <td>07/06/2021</td>\n",
       "    </tr>\n",
       "    <tr>\n",
       "      <th>3</th>\n",
       "      <td>Should I stop at the waters edge?</td>\n",
       "      <td>9:50:02 pm</td>\n",
       "      <td>B1</td>\n",
       "      <td>English</td>\n",
       "      <td>one</td>\n",
       "      <td>07/06/2021</td>\n",
       "    </tr>\n",
       "    <tr>\n",
       "      <th>4</th>\n",
       "      <td>Nope</td>\n",
       "      <td>9:50:09 pm</td>\n",
       "      <td>A1</td>\n",
       "      <td>English</td>\n",
       "      <td>one</td>\n",
       "      <td>07/06/2021</td>\n",
       "    </tr>\n",
       "    <tr>\n",
       "      <th>5</th>\n",
       "      <td>Slight curve to the blue water. At the level o...</td>\n",
       "      <td>9:50:09 pm</td>\n",
       "      <td>A1</td>\n",
       "      <td>English</td>\n",
       "      <td>one</td>\n",
       "      <td>07/06/2021</td>\n",
       "    </tr>\n",
       "    <tr>\n",
       "      <th>6</th>\n",
       "      <td>Yinz got it, neat?</td>\n",
       "      <td>9:51:14 pm</td>\n",
       "      <td>A1</td>\n",
       "      <td>English</td>\n",
       "      <td>one</td>\n",
       "      <td>07/06/2021</td>\n",
       "    </tr>\n",
       "    <tr>\n",
       "      <th>7</th>\n",
       "      <td>*n’at</td>\n",
       "      <td>9:51:14 pm</td>\n",
       "      <td>A1</td>\n",
       "      <td>English</td>\n",
       "      <td>one</td>\n",
       "      <td>07/06/2021</td>\n",
       "    </tr>\n",
       "    <tr>\n",
       "      <th>8</th>\n",
       "      <td>Reddy for the next steps n’at?</td>\n",
       "      <td>9:51:14 pm</td>\n",
       "      <td>A1</td>\n",
       "      <td>English</td>\n",
       "      <td>one</td>\n",
       "      <td>07/06/2021</td>\n",
       "    </tr>\n",
       "    <tr>\n",
       "      <th>9</th>\n",
       "      <td>I'm in front of the pink dolphin</td>\n",
       "      <td>9:51:38 pm</td>\n",
       "      <td>B1</td>\n",
       "      <td>English</td>\n",
       "      <td>one</td>\n",
       "      <td>07/06/2021</td>\n",
       "    </tr>\n",
       "  </tbody>\n",
       "</table>\n",
       "</div>"
      ],
      "text/plain": [
       "                                                turn        time participant  \\\n",
       "0    Start behind the surfer with the board overhead  9:48:23 pm          A1   \n",
       "1                     Curve around the surfer’s feet  9:48:23 pm          A1   \n",
       "2  Then go towards the water at a slight angle, e...  9:48:23 pm          A1   \n",
       "3                  Should I stop at the waters edge?  9:50:02 pm          B1   \n",
       "4                                               Nope  9:50:09 pm          A1   \n",
       "5  Slight curve to the blue water. At the level o...  9:50:09 pm          A1   \n",
       "6                                 Yinz got it, neat?  9:51:14 pm          A1   \n",
       "7                                              *n’at  9:51:14 pm          A1   \n",
       "8                     Reddy for the next steps n’at?  9:51:14 pm          A1   \n",
       "9                   I'm in front of the pink dolphin  9:51:38 pm          B1   \n",
       "\n",
       "  language session        date  \n",
       "0  English     one  07/06/2021  \n",
       "1  English     one  07/06/2021  \n",
       "2  English     one  07/06/2021  \n",
       "3  English     one  07/06/2021  \n",
       "4  English     one  07/06/2021  \n",
       "5  English     one  07/06/2021  \n",
       "6  English     one  07/06/2021  \n",
       "7  English     one  07/06/2021  \n",
       "8  English     one  07/06/2021  \n",
       "9  English     one  07/06/2021  "
      ]
     },
     "execution_count": 3,
     "metadata": {},
     "output_type": "execute_result"
    }
   ],
   "source": [
    "df.head(10) #A reminder of what the data look like"
   ]
  },
  {
   "cell_type": "code",
   "execution_count": 4,
   "metadata": {},
   "outputs": [
    {
     "data": {
      "text/plain": [
       "'Start behind the surfer with the board overhead'"
      ]
     },
     "execution_count": 4,
     "metadata": {},
     "output_type": "execute_result"
    }
   ],
   "source": [
    "df['turn'].iloc[0] #What the very first turn looks like. "
   ]
  },
  {
   "cell_type": "markdown",
   "metadata": {},
   "source": [
    "- To start operations on the whole data frame let's first lowercase the turn column (where necessary): "
   ]
  },
  {
   "cell_type": "code",
   "execution_count": 5,
   "metadata": {},
   "outputs": [],
   "source": [
    "df['turn'] = df['turn'].map(lambda x: x.lower())"
   ]
  },
  {
   "cell_type": "code",
   "execution_count": 6,
   "metadata": {
    "scrolled": true
   },
   "outputs": [
    {
     "data": {
      "text/plain": [
       "1847                                                  ajá\n",
       "21      once you’re at the chair, go south along the t...\n",
       "693                                                    ok\n",
       "411                         curve under the bench i meant\n",
       "727     go down and under their feet arching over the ...\n",
       "884     luego vas a seguir entre los arbustos y el ten...\n",
       "1743                                              derecho\n",
       "1927                                   ok. ya quedó listo\n",
       "592                                                     k\n",
       "772                                    diagonal? o recto?\n",
       "Name: turn, dtype: object"
      ]
     },
     "execution_count": 6,
     "metadata": {},
     "output_type": "execute_result"
    }
   ],
   "source": [
    "df['turn'].sample(10) #Sample. Looks good"
   ]
  },
  {
   "cell_type": "markdown",
   "metadata": {},
   "source": [
    "- Now tokenizing: "
   ]
  },
  {
   "cell_type": "code",
   "execution_count": 7,
   "metadata": {},
   "outputs": [],
   "source": [
    "toks = df['turn'].map(nltk.word_tokenize) "
   ]
  },
  {
   "cell_type": "code",
   "execution_count": 8,
   "metadata": {},
   "outputs": [
    {
     "data": {
      "text/plain": [
       "<class 'pandas.core.series.Series'>"
      ]
     },
     "execution_count": 8,
     "metadata": {},
     "output_type": "execute_result"
    },
    {
     "data": {
      "text/plain": [
       "0    [start, behind, the, surfer, with, the, board,...\n",
       "1             [curve, around, the, surfer, ’, s, feet]\n",
       "2    [then, go, towards, the, water, at, a, slight,...\n",
       "3          [should, i, stop, at, the, waters, edge, ?]\n",
       "4                                               [nope]\n",
       "5    [slight, curve, to, the, blue, water, ., at, t...\n",
       "6                          [yinz, got, it, ,, neat, ?]\n",
       "7                                        [*, n, ’, at]\n",
       "8          [reddy, for, the, next, steps, n, ’, at, ?]\n",
       "9           [i, 'm, in, front, of, the, pink, dolphin]\n",
       "Name: turn, dtype: object"
      ]
     },
     "execution_count": 8,
     "metadata": {},
     "output_type": "execute_result"
    }
   ],
   "source": [
    "type(toks)\n",
    "toks[:10] #sample"
   ]
  },
  {
   "cell_type": "code",
   "execution_count": 9,
   "metadata": {},
   "outputs": [],
   "source": [
    "df['tokens'] = toks #Might come back and examine if a by-language tokenizing is necessary, right now it doesn't appear \n",
    "                    #to be so"
   ]
  },
  {
   "cell_type": "code",
   "execution_count": 10,
   "metadata": {},
   "outputs": [
    {
     "data": {
      "text/html": [
       "<div>\n",
       "<style scoped>\n",
       "    .dataframe tbody tr th:only-of-type {\n",
       "        vertical-align: middle;\n",
       "    }\n",
       "\n",
       "    .dataframe tbody tr th {\n",
       "        vertical-align: top;\n",
       "    }\n",
       "\n",
       "    .dataframe thead th {\n",
       "        text-align: right;\n",
       "    }\n",
       "</style>\n",
       "<table border=\"1\" class=\"dataframe\">\n",
       "  <thead>\n",
       "    <tr style=\"text-align: right;\">\n",
       "      <th></th>\n",
       "      <th>turn</th>\n",
       "      <th>tokens</th>\n",
       "    </tr>\n",
       "  </thead>\n",
       "  <tbody>\n",
       "    <tr>\n",
       "      <th>668</th>\n",
       "      <td>ok</td>\n",
       "      <td>[ok]</td>\n",
       "    </tr>\n",
       "    <tr>\n",
       "      <th>614</th>\n",
       "      <td>good to go now!</td>\n",
       "      <td>[good, to, go, now, !]</td>\n",
       "    </tr>\n",
       "    <tr>\n",
       "      <th>2102</th>\n",
       "      <td>ahora haras una linea encima del tronco hasta ...</td>\n",
       "      <td>[ahora, haras, una, linea, encima, del, tronco...</td>\n",
       "    </tr>\n",
       "    <tr>\n",
       "      <th>1528</th>\n",
       "      <td>alright</td>\n",
       "      <td>[alright]</td>\n",
       "    </tr>\n",
       "    <tr>\n",
       "      <th>307</th>\n",
       "      <td>don't wrap around the frog</td>\n",
       "      <td>[do, n't, wrap, around, the, frog]</td>\n",
       "    </tr>\n",
       "    <tr>\n",
       "      <th>2036</th>\n",
       "      <td>entre los cactus pequeñitos</td>\n",
       "      <td>[entre, los, cactus, pequeñitos]</td>\n",
       "    </tr>\n",
       "    <tr>\n",
       "      <th>1313</th>\n",
       "      <td>start on bottom right side underneath dog to t...</td>\n",
       "      <td>[start, on, bottom, right, side, underneath, d...</td>\n",
       "    </tr>\n",
       "    <tr>\n",
       "      <th>342</th>\n",
       "      <td>curve to the left of the builder,</td>\n",
       "      <td>[curve, to, the, left, of, the, builder, ,]</td>\n",
       "    </tr>\n",
       "    <tr>\n",
       "      <th>1042</th>\n",
       "      <td>sigues el camino, por debajo de la buena perso...</td>\n",
       "      <td>[sigues, el, camino, ,, por, debajo, de, la, b...</td>\n",
       "    </tr>\n",
       "    <tr>\n",
       "      <th>896</th>\n",
       "      <td>y vas a cruzar a la siguiente isla en diagonal...</td>\n",
       "      <td>[y, vas, a, cruzar, a, la, siguiente, isla, en...</td>\n",
       "    </tr>\n",
       "  </tbody>\n",
       "</table>\n",
       "</div>"
      ],
      "text/plain": [
       "                                                   turn  \\\n",
       "668                                                  ok   \n",
       "614                                     good to go now!   \n",
       "2102  ahora haras una linea encima del tronco hasta ...   \n",
       "1528                                            alright   \n",
       "307                          don't wrap around the frog   \n",
       "2036                        entre los cactus pequeñitos   \n",
       "1313  start on bottom right side underneath dog to t...   \n",
       "342                   curve to the left of the builder,   \n",
       "1042  sigues el camino, por debajo de la buena perso...   \n",
       "896   y vas a cruzar a la siguiente isla en diagonal...   \n",
       "\n",
       "                                                 tokens  \n",
       "668                                                [ok]  \n",
       "614                              [good, to, go, now, !]  \n",
       "2102  [ahora, haras, una, linea, encima, del, tronco...  \n",
       "1528                                          [alright]  \n",
       "307                  [do, n't, wrap, around, the, frog]  \n",
       "2036                   [entre, los, cactus, pequeñitos]  \n",
       "1313  [start, on, bottom, right, side, underneath, d...  \n",
       "342         [curve, to, the, left, of, the, builder, ,]  \n",
       "1042  [sigues, el, camino, ,, por, debajo, de, la, b...  \n",
       "896   [y, vas, a, cruzar, a, la, siguiente, isla, en...  "
      ]
     },
     "execution_count": 10,
     "metadata": {},
     "output_type": "execute_result"
    }
   ],
   "source": [
    "df[[\"turn\", \"tokens\"]].sample(10) #A sample. Now that I'm just seeing the columns of interest. Looks good."
   ]
  },
  {
   "cell_type": "code",
   "execution_count": 11,
   "metadata": {},
   "outputs": [],
   "source": [
    "df['token_count'] = df['tokens'].map(len) #Number of tokens per turn"
   ]
  },
  {
   "cell_type": "code",
   "execution_count": 12,
   "metadata": {},
   "outputs": [
    {
     "data": {
      "text/html": [
       "<div>\n",
       "<style scoped>\n",
       "    .dataframe tbody tr th:only-of-type {\n",
       "        vertical-align: middle;\n",
       "    }\n",
       "\n",
       "    .dataframe tbody tr th {\n",
       "        vertical-align: top;\n",
       "    }\n",
       "\n",
       "    .dataframe thead th {\n",
       "        text-align: right;\n",
       "    }\n",
       "</style>\n",
       "<table border=\"1\" class=\"dataframe\">\n",
       "  <thead>\n",
       "    <tr style=\"text-align: right;\">\n",
       "      <th></th>\n",
       "      <th>turn</th>\n",
       "      <th>tokens</th>\n",
       "      <th>token_count</th>\n",
       "    </tr>\n",
       "  </thead>\n",
       "  <tbody>\n",
       "    <tr>\n",
       "      <th>271</th>\n",
       "      <td>walk towards the well</td>\n",
       "      <td>[walk, towards, the, well]</td>\n",
       "      <td>4</td>\n",
       "    </tr>\n",
       "    <tr>\n",
       "      <th>1266</th>\n",
       "      <td>close enough, maybe :d</td>\n",
       "      <td>[close, enough, ,, maybe, :, d]</td>\n",
       "      <td>6</td>\n",
       "    </tr>\n",
       "    <tr>\n",
       "      <th>521</th>\n",
       "      <td>k then you're gonna go diagonal right just to ...</td>\n",
       "      <td>[k, then, you, 're, gon, na, go, diagonal, rig...</td>\n",
       "      <td>37</td>\n",
       "    </tr>\n",
       "    <tr>\n",
       "      <th>1144</th>\n",
       "      <td>then head towards the bottom of the cook</td>\n",
       "      <td>[then, head, towards, the, bottom, of, the, cook]</td>\n",
       "      <td>8</td>\n",
       "    </tr>\n",
       "    <tr>\n",
       "      <th>563</th>\n",
       "      <td>in sand, about halfway between all three</td>\n",
       "      <td>[in, sand, ,, about, halfway, between, all, th...</td>\n",
       "      <td>8</td>\n",
       "    </tr>\n",
       "    <tr>\n",
       "      <th>1623</th>\n",
       "      <td>between the 2 sage brushes onto the path</td>\n",
       "      <td>[between, the, 2, sage, brushes, onto, the, path]</td>\n",
       "      <td>8</td>\n",
       "    </tr>\n",
       "    <tr>\n",
       "      <th>1606</th>\n",
       "      <td>did you drink too much?</td>\n",
       "      <td>[did, you, drink, too, much, ?]</td>\n",
       "      <td>6</td>\n",
       "    </tr>\n",
       "    <tr>\n",
       "      <th>1278</th>\n",
       "      <td>ok done</td>\n",
       "      <td>[ok, done]</td>\n",
       "      <td>2</td>\n",
       "    </tr>\n",
       "    <tr>\n",
       "      <th>1493</th>\n",
       "      <td>i am in the dolphin</td>\n",
       "      <td>[i, am, in, the, dolphin]</td>\n",
       "      <td>5</td>\n",
       "    </tr>\n",
       "    <tr>\n",
       "      <th>366</th>\n",
       "      <td>turn again and walk south between the tent and...</td>\n",
       "      <td>[turn, again, and, walk, south, between, the, ...</td>\n",
       "      <td>10</td>\n",
       "    </tr>\n",
       "  </tbody>\n",
       "</table>\n",
       "</div>"
      ],
      "text/plain": [
       "                                                   turn  \\\n",
       "271                               walk towards the well   \n",
       "1266                             close enough, maybe :d   \n",
       "521   k then you're gonna go diagonal right just to ...   \n",
       "1144           then head towards the bottom of the cook   \n",
       "563            in sand, about halfway between all three   \n",
       "1623           between the 2 sage brushes onto the path   \n",
       "1606                            did you drink too much?   \n",
       "1278                                            ok done   \n",
       "1493                                i am in the dolphin   \n",
       "366   turn again and walk south between the tent and...   \n",
       "\n",
       "                                                 tokens  token_count  \n",
       "271                          [walk, towards, the, well]            4  \n",
       "1266                    [close, enough, ,, maybe, :, d]            6  \n",
       "521   [k, then, you, 're, gon, na, go, diagonal, rig...           37  \n",
       "1144  [then, head, towards, the, bottom, of, the, cook]            8  \n",
       "563   [in, sand, ,, about, halfway, between, all, th...            8  \n",
       "1623  [between, the, 2, sage, brushes, onto, the, path]            8  \n",
       "1606                    [did, you, drink, too, much, ?]            6  \n",
       "1278                                         [ok, done]            2  \n",
       "1493                          [i, am, in, the, dolphin]            5  \n",
       "366   [turn, again, and, walk, south, between, the, ...           10  "
      ]
     },
     "execution_count": 12,
     "metadata": {},
     "output_type": "execute_result"
    }
   ],
   "source": [
    "df[[\"turn\", \"tokens\", \"token_count\"]].sample(10) #A sample. "
   ]
  },
  {
   "cell_type": "code",
   "execution_count": 13,
   "metadata": {},
   "outputs": [],
   "source": [
    "df['type_count'] = df['tokens'].apply(lambda x: len(set(x))) #Number of types per turn"
   ]
  },
  {
   "cell_type": "code",
   "execution_count": 14,
   "metadata": {
    "scrolled": true
   },
   "outputs": [
    {
     "data": {
      "text/html": [
       "<div>\n",
       "<style scoped>\n",
       "    .dataframe tbody tr th:only-of-type {\n",
       "        vertical-align: middle;\n",
       "    }\n",
       "\n",
       "    .dataframe tbody tr th {\n",
       "        vertical-align: top;\n",
       "    }\n",
       "\n",
       "    .dataframe thead th {\n",
       "        text-align: right;\n",
       "    }\n",
       "</style>\n",
       "<table border=\"1\" class=\"dataframe\">\n",
       "  <thead>\n",
       "    <tr style=\"text-align: right;\">\n",
       "      <th></th>\n",
       "      <th>turn</th>\n",
       "      <th>tokens</th>\n",
       "      <th>type_count</th>\n",
       "    </tr>\n",
       "  </thead>\n",
       "  <tbody>\n",
       "    <tr>\n",
       "      <th>1659</th>\n",
       "      <td>r u still sober</td>\n",
       "      <td>[r, u, still, sober]</td>\n",
       "      <td>4</td>\n",
       "    </tr>\n",
       "    <tr>\n",
       "      <th>659</th>\n",
       "      <td>go up and between the sandcastles and the beac...</td>\n",
       "      <td>[go, up, and, between, the, sandcastles, and, ...</td>\n",
       "      <td>7</td>\n",
       "    </tr>\n",
       "    <tr>\n",
       "      <th>2051</th>\n",
       "      <td>ahora, harás una línea hacia alrededor del per...</td>\n",
       "      <td>[ahora, ,, harás, una, línea, hacia, alrededor...</td>\n",
       "      <td>15</td>\n",
       "    </tr>\n",
       "    <tr>\n",
       "      <th>863</th>\n",
       "      <td>ves el perro a la derecha que está sentado al ...</td>\n",
       "      <td>[ves, el, perro, a, la, derecha, que, está, se...</td>\n",
       "      <td>21</td>\n",
       "    </tr>\n",
       "    <tr>\n",
       "      <th>1895</th>\n",
       "      <td>por qué lado del cocodrilo?</td>\n",
       "      <td>[por, qué, lado, del, cocodrilo, ?]</td>\n",
       "      <td>6</td>\n",
       "    </tr>\n",
       "    <tr>\n",
       "      <th>87</th>\n",
       "      <td>hi</td>\n",
       "      <td>[hi]</td>\n",
       "      <td>1</td>\n",
       "    </tr>\n",
       "    <tr>\n",
       "      <th>83</th>\n",
       "      <td>should i move in between the dog and mud or to...</td>\n",
       "      <td>[should, i, move, in, between, the, dog, and, ...</td>\n",
       "      <td>13</td>\n",
       "    </tr>\n",
       "    <tr>\n",
       "      <th>740</th>\n",
       "      <td>ok</td>\n",
       "      <td>[ok]</td>\n",
       "      <td>1</td>\n",
       "    </tr>\n",
       "    <tr>\n",
       "      <th>1038</th>\n",
       "      <td>el cactus de lz izq grande?</td>\n",
       "      <td>[el, cactus, de, lz, izq, grande, ?]</td>\n",
       "      <td>7</td>\n",
       "    </tr>\n",
       "    <tr>\n",
       "      <th>1343</th>\n",
       "      <td>okay got it</td>\n",
       "      <td>[okay, got, it]</td>\n",
       "      <td>3</td>\n",
       "    </tr>\n",
       "  </tbody>\n",
       "</table>\n",
       "</div>"
      ],
      "text/plain": [
       "                                                   turn  \\\n",
       "1659                                    r u still sober   \n",
       "659   go up and between the sandcastles and the beac...   \n",
       "2051  ahora, harás una línea hacia alrededor del per...   \n",
       "863   ves el perro a la derecha que está sentado al ...   \n",
       "1895                        por qué lado del cocodrilo?   \n",
       "87                                                   hi   \n",
       "83    should i move in between the dog and mud or to...   \n",
       "740                                                  ok   \n",
       "1038                        el cactus de lz izq grande?   \n",
       "1343                                        okay got it   \n",
       "\n",
       "                                                 tokens  type_count  \n",
       "1659                               [r, u, still, sober]           4  \n",
       "659   [go, up, and, between, the, sandcastles, and, ...           7  \n",
       "2051  [ahora, ,, harás, una, línea, hacia, alrededor...          15  \n",
       "863   [ves, el, perro, a, la, derecha, que, está, se...          21  \n",
       "1895                [por, qué, lado, del, cocodrilo, ?]           6  \n",
       "87                                                 [hi]           1  \n",
       "83    [should, i, move, in, between, the, dog, and, ...          13  \n",
       "740                                                [ok]           1  \n",
       "1038               [el, cactus, de, lz, izq, grande, ?]           7  \n",
       "1343                                    [okay, got, it]           3  "
      ]
     },
     "execution_count": 14,
     "metadata": {},
     "output_type": "execute_result"
    }
   ],
   "source": [
    "df[[\"turn\", \"tokens\", \"type_count\"]].sample(10) #A sample. "
   ]
  },
  {
   "cell_type": "markdown",
   "metadata": {},
   "source": [
    "- Lastly frequency distributions for each row:"
   ]
  },
  {
   "cell_type": "code",
   "execution_count": 15,
   "metadata": {},
   "outputs": [],
   "source": [
    "df['freq_dist'] = df.tokens.map(nltk.FreqDist) "
   ]
  },
  {
   "cell_type": "code",
   "execution_count": 16,
   "metadata": {},
   "outputs": [
    {
     "data": {
      "text/html": [
       "<div>\n",
       "<style scoped>\n",
       "    .dataframe tbody tr th:only-of-type {\n",
       "        vertical-align: middle;\n",
       "    }\n",
       "\n",
       "    .dataframe tbody tr th {\n",
       "        vertical-align: top;\n",
       "    }\n",
       "\n",
       "    .dataframe thead th {\n",
       "        text-align: right;\n",
       "    }\n",
       "</style>\n",
       "<table border=\"1\" class=\"dataframe\">\n",
       "  <thead>\n",
       "    <tr style=\"text-align: right;\">\n",
       "      <th></th>\n",
       "      <th>turn</th>\n",
       "      <th>tokens</th>\n",
       "      <th>freq_dist</th>\n",
       "    </tr>\n",
       "  </thead>\n",
       "  <tbody>\n",
       "    <tr>\n",
       "      <th>922</th>\n",
       "      <td>pero hacia afuera de la doctora, hacia el send...</td>\n",
       "      <td>[pero, hacia, afuera, de, la, doctora, ,, haci...</td>\n",
       "      <td>{'pero': 1, 'hacia': 2, 'afuera': 1, 'de': 1, ...</td>\n",
       "    </tr>\n",
       "    <tr>\n",
       "      <th>502</th>\n",
       "      <td>i'm to the right of his right foot</td>\n",
       "      <td>[i, 'm, to, the, right, of, his, right, foot]</td>\n",
       "      <td>{'i': 1, ''m': 1, 'to': 1, 'the': 1, 'right': ...</td>\n",
       "    </tr>\n",
       "    <tr>\n",
       "      <th>159</th>\n",
       "      <td>yep im there</td>\n",
       "      <td>[yep, im, there]</td>\n",
       "      <td>{'yep': 1, 'im': 1, 'there': 1}</td>\n",
       "    </tr>\n",
       "    <tr>\n",
       "      <th>110</th>\n",
       "      <td>now take a few steps southeast and stop at 4:00</td>\n",
       "      <td>[now, take, a, few, steps, southeast, and, sto...</td>\n",
       "      <td>{'now': 1, 'take': 1, 'a': 1, 'few': 1, 'steps...</td>\n",
       "    </tr>\n",
       "    <tr>\n",
       "      <th>1148</th>\n",
       "      <td>aaah no yes, there is....</td>\n",
       "      <td>[aaah, no, yes, ,, there, is, ....]</td>\n",
       "      <td>{'aaah': 1, 'no': 1, 'yes': 1, ',': 1, 'there'...</td>\n",
       "    </tr>\n",
       "    <tr>\n",
       "      <th>1448</th>\n",
       "      <td>from the giraffe, cross the two stones towards...</td>\n",
       "      <td>[from, the, giraffe, ,, cross, the, two, stone...</td>\n",
       "      <td>{'from': 1, 'the': 5, 'giraffe': 1, ',': 2, 'c...</td>\n",
       "    </tr>\n",
       "    <tr>\n",
       "      <th>570</th>\n",
       "      <td>oh, like the east cactus, not eastern cactus</td>\n",
       "      <td>[oh, ,, like, the, east, cactus, ,, not, easte...</td>\n",
       "      <td>{'oh': 1, ',': 2, 'like': 1, 'the': 1, 'east':...</td>\n",
       "    </tr>\n",
       "    <tr>\n",
       "      <th>564</th>\n",
       "      <td>what do you mean by e cactus</td>\n",
       "      <td>[what, do, you, mean, by, e, cactus]</td>\n",
       "      <td>{'what': 1, 'do': 1, 'you': 1, 'mean': 1, 'by'...</td>\n",
       "    </tr>\n",
       "    <tr>\n",
       "      <th>1920</th>\n",
       "      <td>ok</td>\n",
       "      <td>[ok]</td>\n",
       "      <td>{'ok': 1}</td>\n",
       "    </tr>\n",
       "    <tr>\n",
       "      <th>1869</th>\n",
       "      <td>de ahi sbiras full recto</td>\n",
       "      <td>[de, ahi, sbiras, full, recto]</td>\n",
       "      <td>{'de': 1, 'ahi': 1, 'sbiras': 1, 'full': 1, 'r...</td>\n",
       "    </tr>\n",
       "  </tbody>\n",
       "</table>\n",
       "</div>"
      ],
      "text/plain": [
       "                                                   turn  \\\n",
       "922   pero hacia afuera de la doctora, hacia el send...   \n",
       "502                  i'm to the right of his right foot   \n",
       "159                                        yep im there   \n",
       "110     now take a few steps southeast and stop at 4:00   \n",
       "1148                          aaah no yes, there is....   \n",
       "1448  from the giraffe, cross the two stones towards...   \n",
       "570        oh, like the east cactus, not eastern cactus   \n",
       "564                        what do you mean by e cactus   \n",
       "1920                                                 ok   \n",
       "1869                           de ahi sbiras full recto   \n",
       "\n",
       "                                                 tokens  \\\n",
       "922   [pero, hacia, afuera, de, la, doctora, ,, haci...   \n",
       "502       [i, 'm, to, the, right, of, his, right, foot]   \n",
       "159                                    [yep, im, there]   \n",
       "110   [now, take, a, few, steps, southeast, and, sto...   \n",
       "1148                [aaah, no, yes, ,, there, is, ....]   \n",
       "1448  [from, the, giraffe, ,, cross, the, two, stone...   \n",
       "570   [oh, ,, like, the, east, cactus, ,, not, easte...   \n",
       "564                [what, do, you, mean, by, e, cactus]   \n",
       "1920                                               [ok]   \n",
       "1869                     [de, ahi, sbiras, full, recto]   \n",
       "\n",
       "                                              freq_dist  \n",
       "922   {'pero': 1, 'hacia': 2, 'afuera': 1, 'de': 1, ...  \n",
       "502   {'i': 1, ''m': 1, 'to': 1, 'the': 1, 'right': ...  \n",
       "159                     {'yep': 1, 'im': 1, 'there': 1}  \n",
       "110   {'now': 1, 'take': 1, 'a': 1, 'few': 1, 'steps...  \n",
       "1148  {'aaah': 1, 'no': 1, 'yes': 1, ',': 1, 'there'...  \n",
       "1448  {'from': 1, 'the': 5, 'giraffe': 1, ',': 2, 'c...  \n",
       "570   {'oh': 1, ',': 2, 'like': 1, 'the': 1, 'east':...  \n",
       "564   {'what': 1, 'do': 1, 'you': 1, 'mean': 1, 'by'...  \n",
       "1920                                          {'ok': 1}  \n",
       "1869  {'de': 1, 'ahi': 1, 'sbiras': 1, 'full': 1, 'r...  "
      ]
     },
     "execution_count": 16,
     "metadata": {},
     "output_type": "execute_result"
    }
   ],
   "source": [
    "df[[\"turn\", \"tokens\", \"freq_dist\"]].sample(10) #A sample. "
   ]
  },
  {
   "cell_type": "markdown",
   "metadata": {},
   "source": [
    "- Saving results:"
   ]
  },
  {
   "cell_type": "code",
   "execution_count": 17,
   "metadata": {},
   "outputs": [],
   "source": [
    "df.to_excel(\"./spreadsheets/df_analysis.xlsx\", index=False) #Saving as spreadsheet file\n",
    "df.to_pickle('./pkl/df_analysis.pkl')                       #Pickling"
   ]
  },
  {
   "cell_type": "markdown",
   "metadata": {},
   "source": [
    "## 3. Descriptive analysis"
   ]
  },
  {
   "cell_type": "markdown",
   "metadata": {},
   "source": [
    "- Let's start with overall counts:"
   ]
  },
  {
   "cell_type": "code",
   "execution_count": 18,
   "metadata": {},
   "outputs": [
    {
     "data": {
      "text/html": [
       "<div>\n",
       "<style scoped>\n",
       "    .dataframe tbody tr th:only-of-type {\n",
       "        vertical-align: middle;\n",
       "    }\n",
       "\n",
       "    .dataframe tbody tr th {\n",
       "        vertical-align: top;\n",
       "    }\n",
       "\n",
       "    .dataframe thead th {\n",
       "        text-align: right;\n",
       "    }\n",
       "</style>\n",
       "<table border=\"1\" class=\"dataframe\">\n",
       "  <thead>\n",
       "    <tr style=\"text-align: right;\">\n",
       "      <th></th>\n",
       "      <th>token_count</th>\n",
       "      <th>type_count</th>\n",
       "    </tr>\n",
       "  </thead>\n",
       "  <tbody>\n",
       "    <tr>\n",
       "      <th>count</th>\n",
       "      <td>2107.000000</td>\n",
       "      <td>2107.000000</td>\n",
       "    </tr>\n",
       "    <tr>\n",
       "      <th>mean</th>\n",
       "      <td>8.194115</td>\n",
       "      <td>7.261509</td>\n",
       "    </tr>\n",
       "    <tr>\n",
       "      <th>std</th>\n",
       "      <td>7.827667</td>\n",
       "      <td>6.173532</td>\n",
       "    </tr>\n",
       "    <tr>\n",
       "      <th>min</th>\n",
       "      <td>1.000000</td>\n",
       "      <td>1.000000</td>\n",
       "    </tr>\n",
       "    <tr>\n",
       "      <th>25%</th>\n",
       "      <td>2.000000</td>\n",
       "      <td>2.000000</td>\n",
       "    </tr>\n",
       "    <tr>\n",
       "      <th>50%</th>\n",
       "      <td>6.000000</td>\n",
       "      <td>6.000000</td>\n",
       "    </tr>\n",
       "    <tr>\n",
       "      <th>75%</th>\n",
       "      <td>11.000000</td>\n",
       "      <td>10.000000</td>\n",
       "    </tr>\n",
       "    <tr>\n",
       "      <th>max</th>\n",
       "      <td>56.000000</td>\n",
       "      <td>43.000000</td>\n",
       "    </tr>\n",
       "  </tbody>\n",
       "</table>\n",
       "</div>"
      ],
      "text/plain": [
       "       token_count   type_count\n",
       "count  2107.000000  2107.000000\n",
       "mean      8.194115     7.261509\n",
       "std       7.827667     6.173532\n",
       "min       1.000000     1.000000\n",
       "25%       2.000000     2.000000\n",
       "50%       6.000000     6.000000\n",
       "75%      11.000000    10.000000\n",
       "max      56.000000    43.000000"
      ]
     },
     "execution_count": 18,
     "metadata": {},
     "output_type": "execute_result"
    }
   ],
   "source": [
    "df.describe() #Continuous variables"
   ]
  },
  {
   "cell_type": "markdown",
   "metadata": {},
   "source": [
    "- Zooming in on figures of interest:"
   ]
  },
  {
   "cell_type": "code",
   "execution_count": 19,
   "metadata": {},
   "outputs": [
    {
     "name": "stdout",
     "output_type": "stream",
     "text": [
      "Total turns:\n",
      " 2107\n",
      "Total tokens:\n",
      " 17265\n",
      "Total types:\n",
      " 15300 \n",
      "\n",
      "Mean tokens per turn:\n",
      " 8.194114855244424\n",
      "Standard deviation:\n",
      " 7.825809071540651 \n",
      "\n",
      "Mean types per turn:\n",
      " 7.261509254864737\n",
      "Standard deviation:\n",
      " 6.172066396863771\n"
     ]
    }
   ],
   "source": [
    "#Total \n",
    "\n",
    "print('Total turns:\\n', len(df))\n",
    "print('Total tokens:\\n', np.sum(df['token_count']))\n",
    "print('Total types:\\n', np.sum(df['type_count']), '\\n')\n",
    "\n",
    "\n",
    "#Means and SDs\n",
    "\n",
    "print('Mean tokens per turn:\\n', np.mean(df['token_count']))\n",
    "print('Standard deviation:\\n', np.std(df['token_count']), '\\n')\n",
    "print('Mean types per turn:\\n', np.mean(df['type_count']))\n",
    "print('Standard deviation:\\n', np.std(df['type_count']))"
   ]
  },
  {
   "cell_type": "markdown",
   "metadata": {},
   "source": [
    "- By participant:"
   ]
  },
  {
   "cell_type": "code",
   "execution_count": 20,
   "metadata": {},
   "outputs": [
    {
     "name": "stdout",
     "output_type": "stream",
     "text": [
      "Turns by participant:\n",
      "Total:\n"
     ]
    },
    {
     "data": {
      "text/plain": [
       "C1    168\n",
       "E1    111\n",
       "S1    105\n",
       "A1    102\n",
       "B2    100\n",
       "E2    100\n",
       "D1     86\n",
       "T1     79\n",
       "F2     77\n",
       "N1     74\n",
       "M1     71\n",
       "B1     70\n",
       "P1     65\n",
       "H2     65\n",
       "F1     62\n",
       "X1     62\n",
       "A2     61\n",
       "G2     58\n",
       "W1     56\n",
       "Q1     49\n",
       "J2     48\n",
       "I2     48\n",
       "K1     45\n",
       "O1     41\n",
       "R1     39\n",
       "L1     37\n",
       "D2     35\n",
       "H1     34\n",
       "V1     33\n",
       "G1     30\n",
       "Y1     30\n",
       "U1     27\n",
       "Z1     26\n",
       "C2     13\n",
       "Name: participant, dtype: int64"
      ]
     },
     "execution_count": 20,
     "metadata": {},
     "output_type": "execute_result"
    },
    {
     "name": "stdout",
     "output_type": "stream",
     "text": [
      "Relative:\n"
     ]
    },
    {
     "data": {
      "text/plain": [
       "C1    0.079734\n",
       "E1    0.052682\n",
       "S1    0.049834\n",
       "A1    0.048410\n",
       "B2    0.047461\n",
       "E2    0.047461\n",
       "D1    0.040816\n",
       "T1    0.037494\n",
       "F2    0.036545\n",
       "N1    0.035121\n",
       "M1    0.033697\n",
       "B1    0.033223\n",
       "P1    0.030850\n",
       "H2    0.030850\n",
       "F1    0.029426\n",
       "X1    0.029426\n",
       "A2    0.028951\n",
       "G2    0.027527\n",
       "W1    0.026578\n",
       "Q1    0.023256\n",
       "J2    0.022781\n",
       "I2    0.022781\n",
       "K1    0.021357\n",
       "O1    0.019459\n",
       "R1    0.018510\n",
       "L1    0.017561\n",
       "D2    0.016611\n",
       "H1    0.016137\n",
       "V1    0.015662\n",
       "G1    0.014238\n",
       "Y1    0.014238\n",
       "U1    0.012814\n",
       "Z1    0.012340\n",
       "C2    0.006170\n",
       "Name: participant, dtype: float64"
      ]
     },
     "execution_count": 20,
     "metadata": {},
     "output_type": "execute_result"
    },
    {
     "name": "stdout",
     "output_type": "stream",
     "text": [
      "Mean turns by participant:\n"
     ]
    },
    {
     "data": {
      "text/plain": [
       "61.970588235294116"
      ]
     },
     "execution_count": 20,
     "metadata": {},
     "output_type": "execute_result"
    },
    {
     "data": {
      "text/plain": [
       "<matplotlib.axes._subplots.AxesSubplot object at 0x00000266F8132040>"
      ]
     },
     "execution_count": 20,
     "metadata": {},
     "output_type": "execute_result"
    },
    {
     "data": {
      "image/png": "[encoded data removed]",
      "text/plain": [
       "<Figure size 432x432 with 1 Axes>"
      ]
     },
     "metadata": {},
     "output_type": "display_data"
    }
   ],
   "source": [
    "print('Turns by participant:')\n",
    "print('Total:')\n",
    "df['participant'].value_counts()\n",
    "print('Relative:')\n",
    "df['participant'].value_counts(normalize=True)\n",
    "print('Mean turns by participant:')\n",
    "np.mean(df['participant'].value_counts())\n",
    "df['participant'].value_counts().plot(kind='bar', figsize=(6,6), color=['deepskyblue'], edgecolor=\"black\", fontsize=14, \n",
    "                                      title ='Turns by participant')"
   ]
  },
  {
   "cell_type": "code",
   "execution_count": 21,
   "metadata": {},
   "outputs": [
    {
     "name": "stdout",
     "output_type": "stream",
     "text": [
      "Mean tokens and types each turn by participant:\n"
     ]
    },
    {
     "data": {
      "text/html": [
       "<div>\n",
       "<style scoped>\n",
       "    .dataframe tbody tr th:only-of-type {\n",
       "        vertical-align: middle;\n",
       "    }\n",
       "\n",
       "    .dataframe tbody tr th {\n",
       "        vertical-align: top;\n",
       "    }\n",
       "\n",
       "    .dataframe thead th {\n",
       "        text-align: right;\n",
       "    }\n",
       "</style>\n",
       "<table border=\"1\" class=\"dataframe\">\n",
       "  <thead>\n",
       "    <tr style=\"text-align: right;\">\n",
       "      <th></th>\n",
       "      <th>token_count</th>\n",
       "      <th>type_count</th>\n",
       "    </tr>\n",
       "    <tr>\n",
       "      <th>participant</th>\n",
       "      <th></th>\n",
       "      <th></th>\n",
       "    </tr>\n",
       "  </thead>\n",
       "  <tbody>\n",
       "    <tr>\n",
       "      <th>A1</th>\n",
       "      <td>8.205882</td>\n",
       "      <td>7.627451</td>\n",
       "    </tr>\n",
       "    <tr>\n",
       "      <th>A2</th>\n",
       "      <td>6.360656</td>\n",
       "      <td>5.754098</td>\n",
       "    </tr>\n",
       "    <tr>\n",
       "      <th>B1</th>\n",
       "      <td>5.342857</td>\n",
       "      <td>5.157143</td>\n",
       "    </tr>\n",
       "    <tr>\n",
       "      <th>B2</th>\n",
       "      <td>7.870000</td>\n",
       "      <td>7.250000</td>\n",
       "    </tr>\n",
       "    <tr>\n",
       "      <th>C1</th>\n",
       "      <td>7.744048</td>\n",
       "      <td>7.089286</td>\n",
       "    </tr>\n",
       "    <tr>\n",
       "      <th>C2</th>\n",
       "      <td>4.615385</td>\n",
       "      <td>4.153846</td>\n",
       "    </tr>\n",
       "    <tr>\n",
       "      <th>D1</th>\n",
       "      <td>3.930233</td>\n",
       "      <td>3.616279</td>\n",
       "    </tr>\n",
       "    <tr>\n",
       "      <th>D2</th>\n",
       "      <td>7.542857</td>\n",
       "      <td>7.142857</td>\n",
       "    </tr>\n",
       "    <tr>\n",
       "      <th>E1</th>\n",
       "      <td>8.747748</td>\n",
       "      <td>7.900901</td>\n",
       "    </tr>\n",
       "    <tr>\n",
       "      <th>E2</th>\n",
       "      <td>6.200000</td>\n",
       "      <td>5.800000</td>\n",
       "    </tr>\n",
       "    <tr>\n",
       "      <th>F1</th>\n",
       "      <td>9.774194</td>\n",
       "      <td>8.193548</td>\n",
       "    </tr>\n",
       "    <tr>\n",
       "      <th>F2</th>\n",
       "      <td>8.870130</td>\n",
       "      <td>7.584416</td>\n",
       "    </tr>\n",
       "    <tr>\n",
       "      <th>G1</th>\n",
       "      <td>8.200000</td>\n",
       "      <td>7.000000</td>\n",
       "    </tr>\n",
       "    <tr>\n",
       "      <th>G2</th>\n",
       "      <td>5.793103</td>\n",
       "      <td>5.482759</td>\n",
       "    </tr>\n",
       "    <tr>\n",
       "      <th>H1</th>\n",
       "      <td>5.235294</td>\n",
       "      <td>4.735294</td>\n",
       "    </tr>\n",
       "    <tr>\n",
       "      <th>H2</th>\n",
       "      <td>6.461538</td>\n",
       "      <td>5.753846</td>\n",
       "    </tr>\n",
       "    <tr>\n",
       "      <th>I2</th>\n",
       "      <td>10.416667</td>\n",
       "      <td>9.083333</td>\n",
       "    </tr>\n",
       "    <tr>\n",
       "      <th>J2</th>\n",
       "      <td>8.958333</td>\n",
       "      <td>8.166667</td>\n",
       "    </tr>\n",
       "    <tr>\n",
       "      <th>K1</th>\n",
       "      <td>8.733333</td>\n",
       "      <td>7.688889</td>\n",
       "    </tr>\n",
       "    <tr>\n",
       "      <th>L1</th>\n",
       "      <td>10.945946</td>\n",
       "      <td>9.378378</td>\n",
       "    </tr>\n",
       "    <tr>\n",
       "      <th>M1</th>\n",
       "      <td>8.183099</td>\n",
       "      <td>7.408451</td>\n",
       "    </tr>\n",
       "    <tr>\n",
       "      <th>N1</th>\n",
       "      <td>9.162162</td>\n",
       "      <td>8.094595</td>\n",
       "    </tr>\n",
       "    <tr>\n",
       "      <th>O1</th>\n",
       "      <td>10.804878</td>\n",
       "      <td>9.780488</td>\n",
       "    </tr>\n",
       "    <tr>\n",
       "      <th>P1</th>\n",
       "      <td>7.907692</td>\n",
       "      <td>7.138462</td>\n",
       "    </tr>\n",
       "    <tr>\n",
       "      <th>Q1</th>\n",
       "      <td>7.673469</td>\n",
       "      <td>7.204082</td>\n",
       "    </tr>\n",
       "    <tr>\n",
       "      <th>R1</th>\n",
       "      <td>10.923077</td>\n",
       "      <td>9.333333</td>\n",
       "    </tr>\n",
       "    <tr>\n",
       "      <th>S1</th>\n",
       "      <td>8.847619</td>\n",
       "      <td>7.552381</td>\n",
       "    </tr>\n",
       "    <tr>\n",
       "      <th>T1</th>\n",
       "      <td>6.658228</td>\n",
       "      <td>6.012658</td>\n",
       "    </tr>\n",
       "    <tr>\n",
       "      <th>U1</th>\n",
       "      <td>9.407407</td>\n",
       "      <td>7.814815</td>\n",
       "    </tr>\n",
       "    <tr>\n",
       "      <th>V1</th>\n",
       "      <td>12.393939</td>\n",
       "      <td>9.424242</td>\n",
       "    </tr>\n",
       "    <tr>\n",
       "      <th>W1</th>\n",
       "      <td>9.517857</td>\n",
       "      <td>8.375000</td>\n",
       "    </tr>\n",
       "    <tr>\n",
       "      <th>X1</th>\n",
       "      <td>12.435484</td>\n",
       "      <td>10.596774</td>\n",
       "    </tr>\n",
       "    <tr>\n",
       "      <th>Y1</th>\n",
       "      <td>12.366667</td>\n",
       "      <td>9.933333</td>\n",
       "    </tr>\n",
       "    <tr>\n",
       "      <th>Z1</th>\n",
       "      <td>12.192308</td>\n",
       "      <td>8.653846</td>\n",
       "    </tr>\n",
       "  </tbody>\n",
       "</table>\n",
       "</div>"
      ],
      "text/plain": [
       "             token_count  type_count\n",
       "participant                         \n",
       "A1              8.205882    7.627451\n",
       "A2              6.360656    5.754098\n",
       "B1              5.342857    5.157143\n",
       "B2              7.870000    7.250000\n",
       "C1              7.744048    7.089286\n",
       "C2              4.615385    4.153846\n",
       "D1              3.930233    3.616279\n",
       "D2              7.542857    7.142857\n",
       "E1              8.747748    7.900901\n",
       "E2              6.200000    5.800000\n",
       "F1              9.774194    8.193548\n",
       "F2              8.870130    7.584416\n",
       "G1              8.200000    7.000000\n",
       "G2              5.793103    5.482759\n",
       "H1              5.235294    4.735294\n",
       "H2              6.461538    5.753846\n",
       "I2             10.416667    9.083333\n",
       "J2              8.958333    8.166667\n",
       "K1              8.733333    7.688889\n",
       "L1             10.945946    9.378378\n",
       "M1              8.183099    7.408451\n",
       "N1              9.162162    8.094595\n",
       "O1             10.804878    9.780488\n",
       "P1              7.907692    7.138462\n",
       "Q1              7.673469    7.204082\n",
       "R1             10.923077    9.333333\n",
       "S1              8.847619    7.552381\n",
       "T1              6.658228    6.012658\n",
       "U1              9.407407    7.814815\n",
       "V1             12.393939    9.424242\n",
       "W1              9.517857    8.375000\n",
       "X1             12.435484   10.596774\n",
       "Y1             12.366667    9.933333\n",
       "Z1             12.192308    8.653846"
      ]
     },
     "execution_count": 21,
     "metadata": {},
     "output_type": "execute_result"
    }
   ],
   "source": [
    "print('Mean tokens and types each turn by participant:')\n",
    "df.groupby(['participant']).mean()"
   ]
  },
  {
   "cell_type": "markdown",
   "metadata": {},
   "source": [
    "- By language:"
   ]
  },
  {
   "cell_type": "code",
   "execution_count": 22,
   "metadata": {},
   "outputs": [
    {
     "name": "stdout",
     "output_type": "stream",
     "text": [
      "Turns by language:\n",
      "Total:\n"
     ]
    },
    {
     "data": {
      "text/plain": [
       "English    1324\n",
       "Spanish     783\n",
       "Name: language, dtype: int64"
      ]
     },
     "execution_count": 22,
     "metadata": {},
     "output_type": "execute_result"
    },
    {
     "name": "stdout",
     "output_type": "stream",
     "text": [
      "Relative:\n"
     ]
    },
    {
     "data": {
      "text/plain": [
       "English    0.628382\n",
       "Spanish    0.371618\n",
       "Name: language, dtype: float64"
      ]
     },
     "execution_count": 22,
     "metadata": {},
     "output_type": "execute_result"
    }
   ],
   "source": [
    "print('Turns by language:')            #Note that there are more ENG sessions, and that the first ENG \n",
    "print('Total:')                        #session included all 8 maps\n",
    "df['language'].value_counts()          \n",
    "print('Relative:')\n",
    "df['language'].value_counts(normalize=True)"
   ]
  },
  {
   "cell_type": "code",
   "execution_count": 23,
   "metadata": {},
   "outputs": [
    {
     "name": "stdout",
     "output_type": "stream",
     "text": [
      "Mean tokens and types by language:\n"
     ]
    },
    {
     "data": {
      "text/html": [
       "<div>\n",
       "<style scoped>\n",
       "    .dataframe tbody tr th:only-of-type {\n",
       "        vertical-align: middle;\n",
       "    }\n",
       "\n",
       "    .dataframe tbody tr th {\n",
       "        vertical-align: top;\n",
       "    }\n",
       "\n",
       "    .dataframe thead th {\n",
       "        text-align: right;\n",
       "    }\n",
       "</style>\n",
       "<table border=\"1\" class=\"dataframe\">\n",
       "  <thead>\n",
       "    <tr style=\"text-align: right;\">\n",
       "      <th></th>\n",
       "      <th>token_count</th>\n",
       "      <th>type_count</th>\n",
       "    </tr>\n",
       "    <tr>\n",
       "      <th>language</th>\n",
       "      <th></th>\n",
       "      <th></th>\n",
       "    </tr>\n",
       "  </thead>\n",
       "  <tbody>\n",
       "    <tr>\n",
       "      <th>English</th>\n",
       "      <td>8.258308</td>\n",
       "      <td>7.254532</td>\n",
       "    </tr>\n",
       "    <tr>\n",
       "      <th>Spanish</th>\n",
       "      <td>8.085568</td>\n",
       "      <td>7.273308</td>\n",
       "    </tr>\n",
       "  </tbody>\n",
       "</table>\n",
       "</div>"
      ],
      "text/plain": [
       "          token_count  type_count\n",
       "language                         \n",
       "English      8.258308    7.254532\n",
       "Spanish      8.085568    7.273308"
      ]
     },
     "execution_count": 23,
     "metadata": {},
     "output_type": "execute_result"
    },
    {
     "data": {
      "text/plain": [
       "<matplotlib.axes._subplots.AxesSubplot object at 0x00000266F8299790>"
      ]
     },
     "execution_count": 23,
     "metadata": {},
     "output_type": "execute_result"
    },
    {
     "data": {
      "image/png": "[encoded data removed]",
      "text/plain": [
       "<Figure size 432x432 with 1 Axes>"
      ]
     },
     "metadata": {},
     "output_type": "display_data"
    }
   ],
   "source": [
    "print('Mean tokens and types by language:')\n",
    "df.groupby(['language']).mean()\n",
    "df['language'].value_counts().plot(kind='bar', figsize=(6,6), color=['deepskyblue'], edgecolor=\"black\", fontsize=14, \n",
    "                                      title ='Turns by language')"
   ]
  },
  {
   "cell_type": "code",
   "execution_count": 24,
   "metadata": {},
   "outputs": [
    {
     "data": {
      "text/plain": [
       "Text(28.045, 0.5, 'Tokens per turn')"
      ]
     },
     "execution_count": 24,
     "metadata": {},
     "output_type": "execute_result"
    },
    {
     "data": {
      "text/plain": [
       "Text(0.5, 21.92, 'Language')"
      ]
     },
     "execution_count": 24,
     "metadata": {},
     "output_type": "execute_result"
    },
    {
     "data": {
      "image/png": "[encoded data removed]",
      "text/plain": [
       "<Figure size 432x432 with 1 Axes>"
      ]
     },
     "metadata": {},
     "output_type": "display_data"
    }
   ],
   "source": [
    "p = sns.catplot(x=\"language\", y=\"token_count\", kind=\"violin\",data=df, height=6, aspect=1)\n",
    "plt.ylabel('Tokens per turn')\n",
    "plt.xlabel('Language')"
   ]
  },
  {
   "cell_type": "markdown",
   "metadata": {},
   "source": [
    "- By session:"
   ]
  },
  {
   "cell_type": "code",
   "execution_count": 25,
   "metadata": {},
   "outputs": [
    {
     "name": "stdout",
     "output_type": "stream",
     "text": [
      "Turns by session:\n",
      "Total:\n"
     ]
    },
    {
     "data": {
      "text/plain": [
       "two         254\n",
       "ten         184\n",
       "sixteen     177\n",
       "three       173\n",
       "one         172\n",
       "fourteen    161\n",
       "seven       145\n",
       "twenty      123\n",
       "twelve      118\n",
       "eight       106\n",
       "nine         88\n",
       "six          82\n",
       "four         64\n",
       "eleven       60\n",
       "thirteen     56\n",
       "nineteen     48\n",
       "eighteen     48\n",
       "fifteen      48\n",
       "Name: session, dtype: int64"
      ]
     },
     "execution_count": 25,
     "metadata": {},
     "output_type": "execute_result"
    },
    {
     "data": {
      "text/plain": [
       "<matplotlib.axes._subplots.AxesSubplot object at 0x00000266FE5825B0>"
      ]
     },
     "execution_count": 25,
     "metadata": {},
     "output_type": "execute_result"
    },
    {
     "name": "stdout",
     "output_type": "stream",
     "text": [
      "Relative:\n"
     ]
    },
    {
     "data": {
      "text/plain": [
       "two         0.120551\n",
       "ten         0.087328\n",
       "sixteen     0.084006\n",
       "three       0.082107\n",
       "one         0.081633\n",
       "fourteen    0.076412\n",
       "seven       0.068818\n",
       "twenty      0.058377\n",
       "twelve      0.056004\n",
       "eight       0.050308\n",
       "nine        0.041766\n",
       "six         0.038918\n",
       "four        0.030375\n",
       "eleven      0.028477\n",
       "thirteen    0.026578\n",
       "nineteen    0.022781\n",
       "eighteen    0.022781\n",
       "fifteen     0.022781\n",
       "Name: session, dtype: float64"
      ]
     },
     "execution_count": 25,
     "metadata": {},
     "output_type": "execute_result"
    },
    {
     "data": {
      "image/png": "[encoded data removed]",
      "text/plain": [
       "<Figure size 432x432 with 1 Axes>"
      ]
     },
     "metadata": {},
     "output_type": "display_data"
    }
   ],
   "source": [
    "print('Turns by session:')\n",
    "print('Total:')\n",
    "df['session'].value_counts()\n",
    "df['session'].value_counts().plot(kind='bar', figsize=(6,6), color=['deepskyblue'], edgecolor=\"black\", fontsize=14, \n",
    "                                      title ='Turns by participant')\n",
    "print('Relative:')\n",
    "df['session'].value_counts(normalize=True)"
   ]
  },
  {
   "cell_type": "code",
   "execution_count": 26,
   "metadata": {},
   "outputs": [
    {
     "name": "stdout",
     "output_type": "stream",
     "text": [
      "Mean tokens and types by session:\n"
     ]
    },
    {
     "data": {
      "text/html": [
       "<div>\n",
       "<style scoped>\n",
       "    .dataframe tbody tr th:only-of-type {\n",
       "        vertical-align: middle;\n",
       "    }\n",
       "\n",
       "    .dataframe tbody tr th {\n",
       "        vertical-align: top;\n",
       "    }\n",
       "\n",
       "    .dataframe thead th {\n",
       "        text-align: right;\n",
       "    }\n",
       "</style>\n",
       "<table border=\"1\" class=\"dataframe\">\n",
       "  <thead>\n",
       "    <tr style=\"text-align: right;\">\n",
       "      <th></th>\n",
       "      <th>token_count</th>\n",
       "      <th>type_count</th>\n",
       "    </tr>\n",
       "    <tr>\n",
       "      <th>session</th>\n",
       "      <th></th>\n",
       "      <th></th>\n",
       "    </tr>\n",
       "  </thead>\n",
       "  <tbody>\n",
       "    <tr>\n",
       "      <th>eight</th>\n",
       "      <td>9.028302</td>\n",
       "      <td>8.160377</td>\n",
       "    </tr>\n",
       "    <tr>\n",
       "      <th>eighteen</th>\n",
       "      <td>9.687500</td>\n",
       "      <td>8.625000</td>\n",
       "    </tr>\n",
       "    <tr>\n",
       "      <th>eleven</th>\n",
       "      <td>11.050000</td>\n",
       "      <td>8.700000</td>\n",
       "    </tr>\n",
       "    <tr>\n",
       "      <th>fifteen</th>\n",
       "      <td>6.750000</td>\n",
       "      <td>6.333333</td>\n",
       "    </tr>\n",
       "    <tr>\n",
       "      <th>four</th>\n",
       "      <td>6.625000</td>\n",
       "      <td>5.796875</td>\n",
       "    </tr>\n",
       "    <tr>\n",
       "      <th>fourteen</th>\n",
       "      <td>7.298137</td>\n",
       "      <td>6.683230</td>\n",
       "    </tr>\n",
       "    <tr>\n",
       "      <th>nine</th>\n",
       "      <td>9.113636</td>\n",
       "      <td>8.147727</td>\n",
       "    </tr>\n",
       "    <tr>\n",
       "      <th>nineteen</th>\n",
       "      <td>9.687500</td>\n",
       "      <td>8.625000</td>\n",
       "    </tr>\n",
       "    <tr>\n",
       "      <th>one</th>\n",
       "      <td>7.040698</td>\n",
       "      <td>6.622093</td>\n",
       "    </tr>\n",
       "    <tr>\n",
       "      <th>seven</th>\n",
       "      <td>8.682759</td>\n",
       "      <td>7.758621</td>\n",
       "    </tr>\n",
       "    <tr>\n",
       "      <th>six</th>\n",
       "      <td>9.731707</td>\n",
       "      <td>8.451220</td>\n",
       "    </tr>\n",
       "    <tr>\n",
       "      <th>sixteen</th>\n",
       "      <td>7.361582</td>\n",
       "      <td>6.576271</td>\n",
       "    </tr>\n",
       "    <tr>\n",
       "      <th>ten</th>\n",
       "      <td>7.907609</td>\n",
       "      <td>6.891304</td>\n",
       "    </tr>\n",
       "    <tr>\n",
       "      <th>thirteen</th>\n",
       "      <td>12.285714</td>\n",
       "      <td>9.339286</td>\n",
       "    </tr>\n",
       "    <tr>\n",
       "      <th>three</th>\n",
       "      <td>9.115607</td>\n",
       "      <td>8.005780</td>\n",
       "    </tr>\n",
       "    <tr>\n",
       "      <th>twelve</th>\n",
       "      <td>11.050847</td>\n",
       "      <td>9.542373</td>\n",
       "    </tr>\n",
       "    <tr>\n",
       "      <th>twenty</th>\n",
       "      <td>6.146341</td>\n",
       "      <td>5.626016</td>\n",
       "    </tr>\n",
       "    <tr>\n",
       "      <th>two</th>\n",
       "      <td>6.452756</td>\n",
       "      <td>5.913386</td>\n",
       "    </tr>\n",
       "  </tbody>\n",
       "</table>\n",
       "</div>"
      ],
      "text/plain": [
       "          token_count  type_count\n",
       "session                          \n",
       "eight        9.028302    8.160377\n",
       "eighteen     9.687500    8.625000\n",
       "eleven      11.050000    8.700000\n",
       "fifteen      6.750000    6.333333\n",
       "four         6.625000    5.796875\n",
       "fourteen     7.298137    6.683230\n",
       "nine         9.113636    8.147727\n",
       "nineteen     9.687500    8.625000\n",
       "one          7.040698    6.622093\n",
       "seven        8.682759    7.758621\n",
       "six          9.731707    8.451220\n",
       "sixteen      7.361582    6.576271\n",
       "ten          7.907609    6.891304\n",
       "thirteen    12.285714    9.339286\n",
       "three        9.115607    8.005780\n",
       "twelve      11.050847    9.542373\n",
       "twenty       6.146341    5.626016\n",
       "two          6.452756    5.913386"
      ]
     },
     "execution_count": 26,
     "metadata": {},
     "output_type": "execute_result"
    }
   ],
   "source": [
    "print('Mean tokens and types by session:')\n",
    "df.groupby(['session']).mean()"
   ]
  },
  {
   "cell_type": "markdown",
   "metadata": {},
   "source": [
    "- I'll finish with frequency distributions (for the full dataset). To get total numbers for the whole data frame we need to unnest (flatten) the `tokens` series. For this purpose we can use Panda's own \"explode\" function. This must also be done by language:"
   ]
  },
  {
   "cell_type": "code",
   "execution_count": 27,
   "metadata": {},
   "outputs": [
    {
     "data": {
      "text/plain": [
       "(1324, 10)"
      ]
     },
     "execution_count": 27,
     "metadata": {},
     "output_type": "execute_result"
    },
    {
     "data": {
      "text/plain": [
       "(783, 10)"
      ]
     },
     "execution_count": 27,
     "metadata": {},
     "output_type": "execute_result"
    }
   ],
   "source": [
    "#Creating subsets for language\n",
    "\n",
    "eng = df[df.language == \"English\"]\n",
    "spa = df[df.language == \"Spanish\"]\n",
    "\n",
    "eng.shape\n",
    "spa.shape"
   ]
  },
  {
   "cell_type": "code",
   "execution_count": 28,
   "metadata": {},
   "outputs": [],
   "source": [
    "#Unnesting the tokens column\n",
    "\n",
    "unnested_eng = eng['tokens'].explode()\n",
    "unnested_spa = spa['tokens'].explode()"
   ]
  },
  {
   "cell_type": "code",
   "execution_count": 29,
   "metadata": {},
   "outputs": [],
   "source": [
    "#Creating frequency distributions\n",
    "\n",
    "eng_fd = nltk.FreqDist(unnested_eng)\n",
    "spa_fd = nltk.FreqDist(unnested_spa)"
   ]
  },
  {
   "cell_type": "code",
   "execution_count": 30,
   "metadata": {},
   "outputs": [
    {
     "name": "stdout",
     "output_type": "stream",
     "text": [
      "Top 25 words - English\n"
     ]
    },
    {
     "data": {
      "text/plain": [
       "[('the', 1426), ('and', 356), ('of', 292), ('to', 271), (',', 228), ('go', 178), ('then', 159), ('right', 159), ('left', 148), ('you', 140), ('on', 132), ('i', 125), ('in', 121), ('a', 120), ('?', 120), ('it', 103), ('at', 102), ('between', 92), ('ok', 91), ('around', 88), ('top', 80), ('line', 78), (\"'s\", 77), ('above', 76), ('there', 73)]"
      ]
     },
     "execution_count": 30,
     "metadata": {},
     "output_type": "execute_result"
    },
    {
     "name": "stdout",
     "output_type": "stream",
     "text": [
      "Top 25 words - Spanish\n"
     ]
    },
    {
     "data": {
      "text/plain": [
       "[('la', 411), ('de', 264), ('por', 239), ('el', 235), ('y', 235), ('a', 148), (',', 146), ('del', 140), ('que', 96), ('?', 94), ('al', 86), ('ok', 78), ('en', 78), ('hasta', 74), ('las', 66), ('vas', 63), ('un', 55), ('hacia', 54), ('entre', 51), ('sin', 50), ('lado', 49), ('encima', 49), ('.', 48), ('está', 45), ('lo', 42)]"
      ]
     },
     "execution_count": 30,
     "metadata": {},
     "output_type": "execute_result"
    }
   ],
   "source": [
    "print('Top 25 words - English')\n",
    "eng_fd.most_common(25)\n",
    "print('Top 25 words - Spanish')\n",
    "spa_fd.most_common(25)"
   ]
  },
  {
   "cell_type": "markdown",
   "metadata": {},
   "source": [
    "- Without stop words and punctuation:"
   ]
  },
  {
   "cell_type": "code",
   "execution_count": 31,
   "metadata": {},
   "outputs": [],
   "source": [
    "#Using nltk's lists for both languages\n",
    "\n",
    "from nltk.corpus import stopwords \n",
    "eng_stop = stopwords.words('english')\n",
    "spa_stop = stopwords.words('spanish')"
   ]
  },
  {
   "cell_type": "code",
   "execution_count": 32,
   "metadata": {},
   "outputs": [],
   "source": [
    "#English\n",
    "\n",
    "eng_nosym = [x for x in unnested_eng if x.isalnum()] # removing punctuation\n",
    "eng_nostop =  [x for x in eng_nosym if x not in eng_stop] #stop words\n",
    "\n",
    "#Spanish\n",
    "\n",
    "spa_nosym = [x for x in unnested_spa if x.isalnum()] # removing punctuation\n",
    "spa_nostop =  [x for x in spa_nosym if x not in spa_stop] #stop words"
   ]
  },
  {
   "cell_type": "code",
   "execution_count": 33,
   "metadata": {},
   "outputs": [],
   "source": [
    "#Creating new frequency distributions\n",
    "\n",
    "eng_nostop_fd = nltk.FreqDist(eng_nostop)\n",
    "spa_nostop_fd = nltk.FreqDist(spa_nostop)"
   ]
  },
  {
   "cell_type": "code",
   "execution_count": 34,
   "metadata": {},
   "outputs": [
    {
     "name": "stdout",
     "output_type": "stream",
     "text": [
      "Top 25 non-stop words - English\n"
     ]
    },
    {
     "data": {
      "text/plain": [
       "[('go', 178), ('right', 159), ('left', 148), ('ok', 91), ('around', 88), ('top', 80), ('line', 78), ('towards', 66), ('side', 66), ('curve', 62), ('bridge', 62), ('head', 61), ('start', 58), ('going', 50), ('okay', 47), ('rock', 45), ('path', 44), ('stop', 43), ('turn', 41), ('done', 41), ('got', 39), ('make', 37), ('draw', 36), ('cross', 35), ('map', 35), ('walk', 35), ('bottom', 35), ('straight', 34), ('cactus', 34), ('south', 33), ('corner', 33), ('end', 32), ('like', 32), ('past', 31), ('across', 31), ('keep', 30), ('diagonal', 29), ('tree', 29), ('way', 29), ('parrot', 28), ('pass', 27), ('tent', 27), ('lobster', 27), ('island', 26), ('ready', 25), ('north', 25), ('car', 25), ('one', 24), ('yes', 24), ('k', 24)]"
      ]
     },
     "execution_count": 34,
     "metadata": {},
     "output_type": "execute_result"
    },
    {
     "data": {
      "image/png": "[encoded data removed]",
      "text/plain": [
       "<Figure size 432x288 with 1 Axes>"
      ]
     },
     "metadata": {},
     "output_type": "display_data"
    },
    {
     "data": {
      "text/plain": [
       "<matplotlib.axes._subplots.AxesSubplot object at 0x00000266FE5D9A00>"
      ]
     },
     "execution_count": 34,
     "metadata": {},
     "output_type": "execute_result"
    },
    {
     "name": "stdout",
     "output_type": "stream",
     "text": [
      "Top 25 non-stop words - Spanish\n"
     ]
    },
    {
     "data": {
      "text/plain": [
       "[('ok', 78), ('vas', 63), ('hacia', 54), ('lado', 49), ('encima', 49), ('izquierda', 42), ('listo', 42), ('abajo', 42), ('pasas', 42), ('parte', 41), ('luego', 38), ('derecha', 35), ('tocar', 31), ('ahí', 30), ('debajo', 29), ('bajas', 28), ('pasar', 28), ('subes', 27), ('ahora', 26), ('tronco', 24), ('línea', 23), ('justo', 22), ('arriba', 22), ('izquierdo', 21), ('dos', 20), ('perro', 20), ('camino', 20), ('grande', 19), ('sigues', 19), ('medio', 19), ('casa', 19), ('después', 19), ('rodeas', 18), ('puente', 18), ('llegar', 16), ('superior', 16), ('x', 16), ('bordea', 16), ('cactus', 15), ('tienda', 14), ('si', 14), ('pasa', 13), ('hospital', 13), ('diagonal', 12), ('mapa', 11), ('esquina', 11), ('guitarra', 11), ('piedras', 11), ('sigue', 11), ('cocodrilo', 11)]"
      ]
     },
     "execution_count": 34,
     "metadata": {},
     "output_type": "execute_result"
    },
    {
     "data": {
      "image/png": "[encoded data removed]",
      "text/plain": [
       "<Figure size 432x288 with 1 Axes>"
      ]
     },
     "metadata": {},
     "output_type": "display_data"
    },
    {
     "data": {
      "text/plain": [
       "<matplotlib.axes._subplots.AxesSubplot object at 0x00000266FE669310>"
      ]
     },
     "execution_count": 34,
     "metadata": {},
     "output_type": "execute_result"
    }
   ],
   "source": [
    "print('Top 25 non-stop words - English')\n",
    "eng_nostop_fd.most_common(50)\n",
    "eng_nostop_fd.plot(10)\n",
    "print('Top 25 non-stop words - Spanish')\n",
    "spa_nostop_fd.most_common(50)\n",
    "spa_nostop_fd.plot(10)"
   ]
  },
  {
   "cell_type": "code",
   "execution_count": 35,
   "metadata": {},
   "outputs": [
    {
     "data": {
      "text/plain": [
       "True"
      ]
     },
     "execution_count": 35,
     "metadata": {},
     "output_type": "execute_result"
    },
    {
     "data": {
      "text/plain": [
       "True"
      ]
     },
     "execution_count": 35,
     "metadata": {},
     "output_type": "execute_result"
    },
    {
     "data": {
      "text/plain": [
       "True"
      ]
     },
     "execution_count": 35,
     "metadata": {},
     "output_type": "execute_result"
    },
    {
     "data": {
      "text/plain": [
       "True"
      ]
     },
     "execution_count": 35,
     "metadata": {},
     "output_type": "execute_result"
    },
    {
     "data": {
      "text/plain": [
       "False"
      ]
     },
     "execution_count": 35,
     "metadata": {},
     "output_type": "execute_result"
    },
    {
     "data": {
      "text/plain": [
       "False"
      ]
     },
     "execution_count": 35,
     "metadata": {},
     "output_type": "execute_result"
    },
    {
     "data": {
      "text/plain": [
       "False"
      ]
     },
     "execution_count": 35,
     "metadata": {},
     "output_type": "execute_result"
    },
    {
     "data": {
      "text/plain": [
       "False"
      ]
     },
     "execution_count": 35,
     "metadata": {},
     "output_type": "execute_result"
    }
   ],
   "source": [
    "#Cardinal points in English\n",
    "\n",
    "\"north\" in eng_nostop\n",
    "\"south\" in eng_nostop\n",
    "\"east\" in eng_nostop\n",
    "\"west\" in eng_nostop\n",
    "\n",
    "#Cardinal points in Spanish\n",
    "\n",
    "\"norte\" in spa_nostop\n",
    "\"sur\" in spa_nostop\n",
    "\"este\" in spa_nostop\n",
    "\"oeste\" in spa_nostop"
   ]
  },
  {
   "cell_type": "markdown",
   "metadata": {},
   "source": [
    "## 4. Summary"
   ]
  },
  {
   "cell_type": "markdown",
   "metadata": {},
   "source": [
    "- **In general**:\n",
    "    - There are 1,446 turns and 12089 tokens in total. There are 10713 types. Note that the latter figure might be inflated by typos/alternate spelling which can be removed in later processing. The difference between types and token is small as turns are normally short. When considering both languages, the mean lenght of a turn is 8.36 tokens, with a relatively high standard deviation of 7.91, although this could be skewed by abundance of short turns indicating confirmation (e.g., \"ok\"). \n",
    "- **Participant**:\n",
    "    - Some participants were noticeably more chatty than others, other this could be affected by the maps they used, as well as their interpersonal relationship. The mean number of turns per participant was 69.94.\n",
    "- **Language**:\n",
    "    - The data are currently composed primarily of English session tokens so it's more appropriate to look at means. Overall it appears that Spanish turns were longer, with a mean token count og 8.90. English turns had a mean token count of 8.19. \n",
    "- **Lexis**:\n",
    "    - After stripping the frequency distributions of stop words, it appears that the most commonly used words are those used to give directions. Examples from English are \"go\", \"right\", \"left\", and \"around\". Examples from Spanish are \"vas\", \"hacia\", and \"encima\". There are also references to elements from the maps among the most commonly used words, such as \"bridge\", \"map\", and \"tree\". It's also worth noting that the most common words in both languages are equivalent."
   ]
  }
 ],
 "metadata": {
  "kernelspec": {
   "display_name": "Python 3",
   "language": "python",
   "name": "python3"
  },
  "language_info": {
   "codemirror_mode": {
    "name": "ipython",
    "version": 3
   },
   "file_extension": ".py",
   "mimetype": "text/x-python",
   "name": "python",
   "nbconvert_exporter": "python",
   "pygments_lexer": "ipython3",
   "version": "3.8.3"
  }
 },
 "nbformat": 4,
 "nbformat_minor": 4
}
